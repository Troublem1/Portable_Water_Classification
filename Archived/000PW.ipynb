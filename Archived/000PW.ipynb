{
  "nbformat": 4,
  "nbformat_minor": 0,
  "metadata": {
    "colab": {
      "name": "000PW.ipynb",
      "provenance": [],
      "collapsed_sections": [
        "gEghjHd1eKqf"
      ],
      "mount_file_id": "1T8cOWg4MbNpObHNQ3OhiAaqEJTIc4vk_",
      "authorship_tag": "ABX9TyM0FsVFYtVDyQA3646iRp3/",
      "include_colab_link": true
    },
    "kernelspec": {
      "name": "python3",
      "display_name": "Python 3"
    },
    "language_info": {
      "name": "python"
    }
  },
  "cells": [
    {
      "cell_type": "markdown",
      "metadata": {
        "id": "view-in-github",
        "colab_type": "text"
      },
      "source": [
        "<a href=\"https://colab.research.google.com/github/Troublem1/Portable_Water_Classification/blob/main/000PW.ipynb\" target=\"_parent\"><img src=\"https://colab.research.google.com/assets/colab-badge.svg\" alt=\"Open In Colab\"/></a>"
      ]
    },
    {
      "cell_type": "code",
      "metadata": {
        "colab": {
          "base_uri": "https://localhost:8080/"
        },
        "id": "WBnkaTRRYMV9",
        "outputId": "11c8bb64-1f9e-4ae2-9ca8-b7e8b4caa2a0"
      },
      "source": [
        "!pip install -q -r /content/drive/MyDrive/workSpace/Potable_Water/configs/PW_requirements.txt"
      ],
      "execution_count": 1,
      "outputs": [
        {
          "output_type": "stream",
          "name": "stdout",
          "text": [
            "\u001b[K     |████████████████████████████████| 74 kB 2.1 MB/s \n",
            "\u001b[K     |████████████████████████████████| 64.4 MB 10 kB/s \n",
            "\u001b[K     |████████████████████████████████| 61 kB 455 kB/s \n",
            "\u001b[K     |████████████████████████████████| 1.8 MB 72.0 MB/s \n",
            "\u001b[K     |████████████████████████████████| 5.8 MB 9.6 MB/s \n",
            "\u001b[K     |████████████████████████████████| 72 kB 994 kB/s \n",
            "\u001b[K     |████████████████████████████████| 22.3 MB 77.9 MB/s \n",
            "\u001b[K     |████████████████████████████████| 112 kB 72.0 MB/s \n",
            "\u001b[K     |████████████████████████████████| 636 kB 54.4 MB/s \n",
            "\u001b[K     |████████████████████████████████| 574 kB 45.4 MB/s \n",
            "\u001b[K     |████████████████████████████████| 9.5 MB 45.9 MB/s \n",
            "\u001b[?25h  Building wheel for zindi (setup.py) ... \u001b[?25l\u001b[?25hdone\n",
            "  Building wheel for antlr4-python3-runtime (setup.py) ... \u001b[?25l\u001b[?25hdone\n"
          ]
        }
      ]
    },
    {
      "cell_type": "code",
      "metadata": {
        "id": "9kljeXvdYMvA"
      },
      "source": [
        "from omegaconf import OmegaConf\n",
        "from zindi.user import Zindian\n",
        "import numpy as np\n",
        "import pandas as pd\n",
        "import os\n",
        "from tqdm.notebook import tqdm\n",
        "import shutil\n",
        "\n",
        "import catboost as cb\n",
        "import xgboost as xgb\n",
        "import lightgbm as lgb\n",
        "from sklearn.model_selection import StratifiedKFold\n",
        "from sklearn.metrics import auc,roc_auc_score, log_loss, f1_score\n",
        "from sklearn import preprocessing\n",
        "import seaborn as sns\n",
        "import joblib\n",
        "import matplotlib.pyplot as plt\n",
        "from google.colab import files\n",
        "import time\n",
        "# import tensorflow as tf"
      ],
      "execution_count": 2,
      "outputs": []
    },
    {
      "cell_type": "code",
      "metadata": {
        "id": "KtQwqd5TYNAE"
      },
      "source": [
        "os.makedirs('/content/drive/MyDrive/workSpace/Potable_Water/configs/' , exist_ok=True )"
      ],
      "execution_count": 3,
      "outputs": []
    },
    {
      "cell_type": "code",
      "metadata": {
        "id": "J6TgK3EFYNTl"
      },
      "source": [
        "params = {'defaults':{'seed_value':2021, 'nKfold':10},\n",
        "'dir': {'model_name':'000',\n",
        "        'data_path':'/content/drive/MyDrive/workSpace/Potable_Water/data/',\n",
        "        'train_file':'/content/drive/MyDrive/workSpace/Potable_Water/data/Train.csv' ,\n",
        "        'test_file':'/content/drive/MyDrive/workSpace/Potable_Water/data/Test.csv' ,\n",
        "        'submit_file':'/content/drive/MyDrive/workSpace/Potable_Water/data/SampleSubmission.csv',\n",
        "        'model_path':'/content/drive/MyDrive/workSpace/Potable_Water/models/',\n",
        "        'checkpoints_path':'/content/drive/MyDrive/workSpace/Potable_Water/checkpoints/',\n",
        "        'predictions_path':'/content/drive/MyDrive/workSpace/Potable_Water/submissions/'},\n",
        "\n",
        "# 'preprocessing':{'remove_traindf_cols':['user_id','CHURN'], \n",
        "#                'remove_testdf_cols':['user_id'],'cat_cols_remove':'user_id',\n",
        "#                'feature_cols':['FREQUENCE_RECH','DATA_VOLUME', 'TIGO', 'FREQ_TOP_PACK', 'ARPU_SEGMENT', 'ORANGE', \n",
        "#                                'ON_NET', 'REVENUE', 'MONTANT', 'REGULARITY', 'FREQUENCE', 'ZONE2', 'ZONE1'],\n",
        "#                'category_cols':['REGION', 'TENURE', 'MRG', 'TOP_PACK'],\n",
        "#                'target_col':'CHURN'},\n",
        "          \n",
        "  'model':{'boosting_type': 'gbdt','path_smooth':0.3 ,'min_data_in_leaf':1000,\n",
        "          #  'class_weights':'balanced',\n",
        "          #  'is_unbalance':True,\n",
        "          #  'num_class':1,\n",
        "           'learning_rate':0.2,'num_leaves':30 ,'objective': 'binary','metric': 'auc','max_depth':20,\n",
        "                'cat_smooth':20,'n_estimators': 98,'colsample_bytree' : 1 ,'deterministic':True,\n",
        "                # 'categorical_feature':['REGION', 'TENURE', 'MRG', 'TOP_PACK'],\n",
        "                'seed': 2021,'silent':False,'num_iterations':900 ,'reg_lambda':2,'reg_alpha':2}}\n",
        "\n",
        "if '000PW.yaml' in os.listdir('/content/drive/MyDrive/workSpace/Potable_Water/configs/'):\n",
        "  config_ = OmegaConf.load('/content/drive/MyDrive/workSpace/Potable_Water/configs/000PW.yaml')\n",
        "else:\n",
        "  OmegaConf.save(config=params, f='/content/drive/MyDrive/workSpace/Potable_Water/configs/000PW.yaml')\n",
        "  config_ = OmegaConf.load('/content/drive/MyDrive/workSpace/Potable_Water/configs/000PW.yaml')\n"
      ],
      "execution_count": 4,
      "outputs": []
    },
    {
      "cell_type": "code",
      "metadata": {
        "colab": {
          "base_uri": "https://localhost:8080/"
        },
        "id": "Hzc8_UzFbTbx",
        "outputId": "343073cc-28e5-4edf-8c2f-587f18cd0e6a"
      },
      "source": [
        "print(OmegaConf.to_yaml(config_.dir))"
      ],
      "execution_count": 5,
      "outputs": [
        {
          "output_type": "stream",
          "name": "stdout",
          "text": [
            "model_name: '000'\n",
            "data_path: /content/drive/MyDrive/workSpace/Potable_Water/data/\n",
            "train_file: /content/drive/MyDrive/workSpace/Potable_Water/data/Train.csv\n",
            "test_file: /content/drive/MyDrive/workSpace/Potable_Water/data/Test.csv\n",
            "submit_file: /content/drive/MyDrive/workSpace/Potable_Water/data/SampleSubmission.csv\n",
            "model_path: /content/drive/MyDrive/workSpace/Potable_Water/models/\n",
            "checkpoints_path: /content/drive/MyDrive/workSpace/Potable_Water/checkpoints/\n",
            "predictions_path: /content/drive/MyDrive/workSpace/Potable_Water/submissions/\n",
            "\n"
          ]
        }
      ]
    },
    {
      "cell_type": "code",
      "metadata": {
        "id": "J7uLzHNWbTXv"
      },
      "source": [
        "os.makedirs(config_.dir.model_path , exist_ok=True )\n",
        "os.makedirs(config_.dir.predictions_path, exist_ok=True)"
      ],
      "execution_count": 6,
      "outputs": []
    },
    {
      "cell_type": "code",
      "metadata": {
        "id": "mszIbQArbX04"
      },
      "source": [
        "# # create a user object\n",
        "# my_username = \"ZzyZx\"\n",
        "# user = Zindian(username = my_username)\n",
        "\n",
        "# # Select a Zindi challenge\n",
        "# user.select_a_challenge()  #current index 5\n",
        "# user.which_challenge\n",
        "\n",
        "# # Download the dataset of the selected challenge for the sfc select 2\n",
        "# user.download_dataset(destination=config_.dir.data_path)"
      ],
      "execution_count": 7,
      "outputs": []
    },
    {
      "cell_type": "code",
      "metadata": {
        "colab": {
          "base_uri": "https://localhost:8080/"
        },
        "id": "fHBWH4pzbXsL",
        "outputId": "f6b4724a-6acd-4482-f05c-ceffe5c3e5ec"
      },
      "source": [
        "print(OmegaConf.to_yaml(config_.defaults))"
      ],
      "execution_count": 8,
      "outputs": [
        {
          "output_type": "stream",
          "name": "stdout",
          "text": [
            "seed_value: 2021\n",
            "nKfold: 10\n",
            "\n"
          ]
        }
      ]
    },
    {
      "cell_type": "code",
      "metadata": {
        "id": "Lxm810t9cPc4"
      },
      "source": [
        "# Setting SEED to Reproduce Same Results even with \"GPU\"\n",
        "import os\n",
        "os.environ['PYTHONHASHSEED'] = str(config_.defaults.seed_value)\n",
        "import random\n",
        "random.seed(config_.defaults.seed_value)\n",
        "import numpy as np\n",
        "np.random.seed(config_.defaults.seed_value)\n"
      ],
      "execution_count": 9,
      "outputs": []
    },
    {
      "cell_type": "code",
      "metadata": {
        "colab": {
          "base_uri": "https://localhost:8080/"
        },
        "id": "jW21CbOzcR98",
        "outputId": "dc6ef9f4-56dc-4212-8698-755f4e876e9e"
      },
      "source": [
        "print(OmegaConf.to_yaml(config_.dir))"
      ],
      "execution_count": 10,
      "outputs": [
        {
          "output_type": "stream",
          "name": "stdout",
          "text": [
            "model_name: '000'\n",
            "data_path: /content/drive/MyDrive/workSpace/Potable_Water/data/\n",
            "train_file: /content/drive/MyDrive/workSpace/Potable_Water/data/Train.csv\n",
            "test_file: /content/drive/MyDrive/workSpace/Potable_Water/data/Test.csv\n",
            "submit_file: /content/drive/MyDrive/workSpace/Potable_Water/data/SampleSubmission.csv\n",
            "model_path: /content/drive/MyDrive/workSpace/Potable_Water/models/\n",
            "checkpoints_path: /content/drive/MyDrive/workSpace/Potable_Water/checkpoints/\n",
            "predictions_path: /content/drive/MyDrive/workSpace/Potable_Water/submissions/\n",
            "\n"
          ]
        }
      ]
    },
    {
      "cell_type": "code",
      "metadata": {
        "id": "suxmPZdEcVLH"
      },
      "source": [
        "train_df = pd.read_csv(config_.dir.train_file)\n",
        "test_df = pd.read_csv(config_.dir.test_file)\n",
        "sub_df = pd.read_csv(config_.dir.submit_file)"
      ],
      "execution_count": 11,
      "outputs": []
    },
    {
      "cell_type": "code",
      "metadata": {
        "colab": {
          "base_uri": "https://localhost:8080/",
          "height": 224
        },
        "id": "plE5-Jk7cZc7",
        "outputId": "b1be0aa4-4a20-4d0d-a090-54066743c873"
      },
      "source": [
        "train_df.head()"
      ],
      "execution_count": 12,
      "outputs": [
        {
          "output_type": "execute_result",
          "data": {
            "text/html": [
              "<div>\n",
              "<style scoped>\n",
              "    .dataframe tbody tr th:only-of-type {\n",
              "        vertical-align: middle;\n",
              "    }\n",
              "\n",
              "    .dataframe tbody tr th {\n",
              "        vertical-align: top;\n",
              "    }\n",
              "\n",
              "    .dataframe thead th {\n",
              "        text-align: right;\n",
              "    }\n",
              "</style>\n",
              "<table border=\"1\" class=\"dataframe\">\n",
              "  <thead>\n",
              "    <tr style=\"text-align: right;\">\n",
              "      <th></th>\n",
              "      <th>region_area_</th>\n",
              "      <th>ph</th>\n",
              "      <th>Hardness</th>\n",
              "      <th>Solids</th>\n",
              "      <th>Chloramines</th>\n",
              "      <th>Sulfate</th>\n",
              "      <th>Conductivity</th>\n",
              "      <th>Organic_carbon</th>\n",
              "      <th>Trihalomethanes</th>\n",
              "      <th>Turbidity</th>\n",
              "      <th>Potability</th>\n",
              "    </tr>\n",
              "  </thead>\n",
              "  <tbody>\n",
              "    <tr>\n",
              "      <th>0</th>\n",
              "      <td>region_area_1</td>\n",
              "      <td>3.716080</td>\n",
              "      <td>180.196811</td>\n",
              "      <td>18630.362669</td>\n",
              "      <td>6.330435</td>\n",
              "      <td>NaN</td>\n",
              "      <td>602.990359</td>\n",
              "      <td>15.285013</td>\n",
              "      <td>56.444076</td>\n",
              "      <td>4.500656</td>\n",
              "      <td>0</td>\n",
              "    </tr>\n",
              "    <tr>\n",
              "      <th>1</th>\n",
              "      <td>region_area_100</td>\n",
              "      <td>4.270716</td>\n",
              "      <td>217.611599</td>\n",
              "      <td>24405.555346</td>\n",
              "      <td>7.086700</td>\n",
              "      <td>297.951852</td>\n",
              "      <td>359.623910</td>\n",
              "      <td>13.583526</td>\n",
              "      <td>54.589840</td>\n",
              "      <td>3.763906</td>\n",
              "      <td>0</td>\n",
              "    </tr>\n",
              "    <tr>\n",
              "      <th>2</th>\n",
              "      <td>region_area_1000</td>\n",
              "      <td>6.648849</td>\n",
              "      <td>232.462013</td>\n",
              "      <td>30733.808648</td>\n",
              "      <td>5.656462</td>\n",
              "      <td>344.670335</td>\n",
              "      <td>267.809179</td>\n",
              "      <td>17.863444</td>\n",
              "      <td>35.411181</td>\n",
              "      <td>4.827527</td>\n",
              "      <td>0</td>\n",
              "    </tr>\n",
              "    <tr>\n",
              "      <th>3</th>\n",
              "      <td>region_area_1001</td>\n",
              "      <td>NaN</td>\n",
              "      <td>261.753637</td>\n",
              "      <td>21174.713291</td>\n",
              "      <td>7.314074</td>\n",
              "      <td>NaN</td>\n",
              "      <td>582.848407</td>\n",
              "      <td>15.215849</td>\n",
              "      <td>90.367455</td>\n",
              "      <td>4.217553</td>\n",
              "      <td>0</td>\n",
              "    </tr>\n",
              "    <tr>\n",
              "      <th>4</th>\n",
              "      <td>region_area_1002</td>\n",
              "      <td>9.323584</td>\n",
              "      <td>263.484560</td>\n",
              "      <td>15751.480111</td>\n",
              "      <td>5.196259</td>\n",
              "      <td>297.593625</td>\n",
              "      <td>409.878704</td>\n",
              "      <td>10.727265</td>\n",
              "      <td>74.669285</td>\n",
              "      <td>3.006650</td>\n",
              "      <td>0</td>\n",
              "    </tr>\n",
              "  </tbody>\n",
              "</table>\n",
              "</div>"
            ],
            "text/plain": [
              "       region_area_        ph  ...  Turbidity  Potability\n",
              "0     region_area_1  3.716080  ...   4.500656           0\n",
              "1   region_area_100  4.270716  ...   3.763906           0\n",
              "2  region_area_1000  6.648849  ...   4.827527           0\n",
              "3  region_area_1001       NaN  ...   4.217553           0\n",
              "4  region_area_1002  9.323584  ...   3.006650           0\n",
              "\n",
              "[5 rows x 11 columns]"
            ]
          },
          "metadata": {},
          "execution_count": 12
        }
      ]
    },
    {
      "cell_type": "code",
      "metadata": {
        "colab": {
          "base_uri": "https://localhost:8080/",
          "height": 224
        },
        "id": "jstW_W6uhbDV",
        "outputId": "5276cd60-7f55-4214-f2a3-140f83ef8d9a"
      },
      "source": [
        "test_df.head()"
      ],
      "execution_count": 13,
      "outputs": [
        {
          "output_type": "execute_result",
          "data": {
            "text/html": [
              "<div>\n",
              "<style scoped>\n",
              "    .dataframe tbody tr th:only-of-type {\n",
              "        vertical-align: middle;\n",
              "    }\n",
              "\n",
              "    .dataframe tbody tr th {\n",
              "        vertical-align: top;\n",
              "    }\n",
              "\n",
              "    .dataframe thead th {\n",
              "        text-align: right;\n",
              "    }\n",
              "</style>\n",
              "<table border=\"1\" class=\"dataframe\">\n",
              "  <thead>\n",
              "    <tr style=\"text-align: right;\">\n",
              "      <th></th>\n",
              "      <th>region_area_</th>\n",
              "      <th>ph</th>\n",
              "      <th>Hardness</th>\n",
              "      <th>Solids</th>\n",
              "      <th>Chloramines</th>\n",
              "      <th>Sulfate</th>\n",
              "      <th>Conductivity</th>\n",
              "      <th>Organic_carbon</th>\n",
              "      <th>Trihalomethanes</th>\n",
              "      <th>Turbidity</th>\n",
              "    </tr>\n",
              "  </thead>\n",
              "  <tbody>\n",
              "    <tr>\n",
              "      <th>0</th>\n",
              "      <td>region_area_0</td>\n",
              "      <td>NaN</td>\n",
              "      <td>255.664346</td>\n",
              "      <td>20791.623791</td>\n",
              "      <td>6.995401</td>\n",
              "      <td>369.261555</td>\n",
              "      <td>574.413654</td>\n",
              "      <td>10.484783</td>\n",
              "      <td>87.105970</td>\n",
              "      <td>2.963135</td>\n",
              "    </tr>\n",
              "    <tr>\n",
              "      <th>1</th>\n",
              "      <td>region_area_10</td>\n",
              "      <td>7.360640</td>\n",
              "      <td>216.294688</td>\n",
              "      <td>32452.919220</td>\n",
              "      <td>7.245890</td>\n",
              "      <td>327.369467</td>\n",
              "      <td>435.488419</td>\n",
              "      <td>15.691810</td>\n",
              "      <td>78.855016</td>\n",
              "      <td>3.662292</td>\n",
              "    </tr>\n",
              "    <tr>\n",
              "      <th>2</th>\n",
              "      <td>region_area_1006</td>\n",
              "      <td>7.230845</td>\n",
              "      <td>228.348694</td>\n",
              "      <td>17864.994196</td>\n",
              "      <td>5.513418</td>\n",
              "      <td>344.338446</td>\n",
              "      <td>377.794992</td>\n",
              "      <td>20.017950</td>\n",
              "      <td>59.418053</td>\n",
              "      <td>5.622018</td>\n",
              "    </tr>\n",
              "    <tr>\n",
              "      <th>3</th>\n",
              "      <td>region_area_1010</td>\n",
              "      <td>4.797460</td>\n",
              "      <td>241.089018</td>\n",
              "      <td>21280.551369</td>\n",
              "      <td>5.883692</td>\n",
              "      <td>327.539307</td>\n",
              "      <td>367.541193</td>\n",
              "      <td>11.818821</td>\n",
              "      <td>63.978068</td>\n",
              "      <td>4.038503</td>\n",
              "    </tr>\n",
              "    <tr>\n",
              "      <th>4</th>\n",
              "      <td>region_area_1011</td>\n",
              "      <td>9.319176</td>\n",
              "      <td>250.107456</td>\n",
              "      <td>14294.545161</td>\n",
              "      <td>7.480130</td>\n",
              "      <td>366.796865</td>\n",
              "      <td>348.546450</td>\n",
              "      <td>15.320293</td>\n",
              "      <td>63.506468</td>\n",
              "      <td>4.129230</td>\n",
              "    </tr>\n",
              "  </tbody>\n",
              "</table>\n",
              "</div>"
            ],
            "text/plain": [
              "       region_area_        ph  ...  Trihalomethanes  Turbidity\n",
              "0     region_area_0       NaN  ...        87.105970   2.963135\n",
              "1    region_area_10  7.360640  ...        78.855016   3.662292\n",
              "2  region_area_1006  7.230845  ...        59.418053   5.622018\n",
              "3  region_area_1010  4.797460  ...        63.978068   4.038503\n",
              "4  region_area_1011  9.319176  ...        63.506468   4.129230\n",
              "\n",
              "[5 rows x 10 columns]"
            ]
          },
          "metadata": {},
          "execution_count": 13
        }
      ]
    },
    {
      "cell_type": "code",
      "metadata": {
        "colab": {
          "base_uri": "https://localhost:8080/",
          "height": 204
        },
        "id": "WOsEvt1miBEp",
        "outputId": "9492a41e-80b0-4ab9-f088-ba8fe00036c7"
      },
      "source": [
        "sub_df.head()"
      ],
      "execution_count": 14,
      "outputs": [
        {
          "output_type": "execute_result",
          "data": {
            "text/html": [
              "<div>\n",
              "<style scoped>\n",
              "    .dataframe tbody tr th:only-of-type {\n",
              "        vertical-align: middle;\n",
              "    }\n",
              "\n",
              "    .dataframe tbody tr th {\n",
              "        vertical-align: top;\n",
              "    }\n",
              "\n",
              "    .dataframe thead th {\n",
              "        text-align: right;\n",
              "    }\n",
              "</style>\n",
              "<table border=\"1\" class=\"dataframe\">\n",
              "  <thead>\n",
              "    <tr style=\"text-align: right;\">\n",
              "      <th></th>\n",
              "      <th>region_area_</th>\n",
              "      <th>Potability</th>\n",
              "    </tr>\n",
              "  </thead>\n",
              "  <tbody>\n",
              "    <tr>\n",
              "      <th>0</th>\n",
              "      <td>region_area_0</td>\n",
              "      <td>1</td>\n",
              "    </tr>\n",
              "    <tr>\n",
              "      <th>1</th>\n",
              "      <td>region_area_10</td>\n",
              "      <td>1</td>\n",
              "    </tr>\n",
              "    <tr>\n",
              "      <th>2</th>\n",
              "      <td>region_area_1006</td>\n",
              "      <td>1</td>\n",
              "    </tr>\n",
              "    <tr>\n",
              "      <th>3</th>\n",
              "      <td>region_area_1010</td>\n",
              "      <td>1</td>\n",
              "    </tr>\n",
              "    <tr>\n",
              "      <th>4</th>\n",
              "      <td>region_area_1011</td>\n",
              "      <td>1</td>\n",
              "    </tr>\n",
              "  </tbody>\n",
              "</table>\n",
              "</div>"
            ],
            "text/plain": [
              "       region_area_  Potability\n",
              "0     region_area_0           1\n",
              "1    region_area_10           1\n",
              "2  region_area_1006           1\n",
              "3  region_area_1010           1\n",
              "4  region_area_1011           1"
            ]
          },
          "metadata": {},
          "execution_count": 14
        }
      ]
    },
    {
      "cell_type": "code",
      "metadata": {
        "id": "U-BEg0ghccEl"
      },
      "source": [
        "# #check distribution of customer in each country across location_type and bank_account columns\n",
        "# pd.crosstab(train_df.REGION,train_df.CHURN)"
      ],
      "execution_count": 15,
      "outputs": []
    },
    {
      "cell_type": "markdown",
      "metadata": {
        "id": "GZX7q4AUdDJ6"
      },
      "source": [
        "Variable Descriptions\n",
        "\n",
        "- pH value: PH is an important parameter in evaluating the acid–base balance of water. It is also the indicator of acidic or alkaline condition of water status. WHO has recommended a maximum permissible limit of pH from 6.5 to 8.5. The current investigation ranges were 6.52–6.83 which are in the range of WHO standards.\n",
        "- Hardness: Hardness is mainly caused by calcium and magnesium salts. These salts are dissolved from geologic deposits through which water travels. The length of time water is in contact with hardness producing material helps determine how much hardness there is in raw water. Hardness was originally defined as the capacity of water to precipitate soap caused by Calcium and Magnesium.\n",
        "- Solids (Total dissolved solids - TDS): Water has the ability to dissolve a wide range of inorganic and some organic minerals or salts such as potassium, calcium, sodium, bicarbonates, chlorides, magnesium, sulfates etc. These minerals produced an unwanted taste and diluted color in the appearance of water. This is the important parameter for the use of water. The water with high TDS value indicates that water is highly mineralized. The desired limit for TDS is 500 mg/l and maximum limit is 1000 mg/l which is prescribed for drinking purposes.\n",
        "- Chloramines: Chlorine and chloramine are the major disinfectants used in public water systems. Chloramines are most commonly formed when ammonia is added to chlorine to treat drinking water. Chlorine levels up to 4 milligrams per liter (mg/L or 4 parts per million (ppm)) are considered safe in drinking water.\n",
        "- Sulfate: Sulfates are naturally occurring substances that are found in minerals, soil, and rocks. They are present in ambient air, groundwater, plants, and food. The principal commercial use of sulfate is in the chemical industry. Sulfate concentration in seawater is about 2,700 milligrams per liter (mg/L). It ranges from 3 to 30 mg/L in most freshwater supplies, although much higher concentrations (1000 mg/L) are found in some geographic locations.\n",
        "- Conductivity: Pure water is not a good conductor of electric current rather it's a good insulator. Increase in ions concentration enhances the electrical conductivity of water. Generally, the amount of dissolved solids in water determines the electrical conductivity. Electrical conductivity (EC) actually measures the ionic process of a solution that enables it to transmit current. According to WHO standards, EC value should not exceed 400 μS/cm.\n",
        "- Organic_carbon: Total Organic Carbon (TOC) in source waters comes from decaying natural organic matter (NOM) as well as synthetic sources. TOC is a measure of the total amount of carbon in organic compounds in pure water. According to the US EPA < 2 mg/L as TOC in treated / drinking water, and < 4 mg/Lit in source water which is used for treatment.\n",
        "- Trihalomethanes: THMs are chemicals which may be found in water treated with chlorine. The concentration of THMs in drinking water varies according to the level of organic material in the water, the amount of chlorine required to treat the water, and the temperature of the water that is being treated. THM levels up to 80 ppm is considered safe in drinking water.\n",
        "- Turbidity: The turbidity of water depends on the quantity of solid matter present in the suspended state. It is a measure of light emitting properties of water and the test is used to indicate the quality of waste discharge with respect to colloidal matter. The mean turbidity value obtained for Wondo Genet Campus (0.98 NTU) is lower than the WHO recommended value of 5.00 NTU.\n",
        "- Potability: Indicates if water is safe for human consumption where 1 means Potable and 0 means Not potable."
      ]
    },
    {
      "cell_type": "markdown",
      "metadata": {
        "id": "gEghjHd1eKqf"
      },
      "source": [
        "### MY GBM BASELINES "
      ]
    },
    {
      "cell_type": "markdown",
      "metadata": {
        "id": "qvCoG2UX_zyA"
      },
      "source": [
        "- XGBOOST"
      ]
    },
    {
      "cell_type": "code",
      "metadata": {
        "colab": {
          "base_uri": "https://localhost:8080/"
        },
        "id": "fgl7_H_LdWdF",
        "outputId": "95536922-7e1f-4224-bbaa-945b31e2fd8c"
      },
      "source": [
        "# Baseline\n",
        "\"\"\"XGBOOST on GPU\"\"\"\n",
        "from sklearn.model_selection import KFold\n",
        "import xgboost as xgb\n",
        "# from sklearn.metrics import mean_squared_error\n",
        "\n",
        "X = train_df.drop(columns=['region_area_','Potability']) #config_.preprocess.to_drop+config_.preprocess.target)\n",
        "y = train_df['Potability'] #[config_.preprocess.target[0]].astype(int)\n",
        "\n",
        "test_new = test_df.drop(columns=['region_area_']) #config_.preprocess.to_drop)\n",
        "test_fields = test_df['region_area_'] #[config_.preprocess.to_drop[0]]  #field\n",
        "\n",
        "kf = KFold(n_splits = 5,shuffle=True,random_state=2021)\n",
        "feats = pd.DataFrame({'features': X.columns}) \n",
        "xgb_predictions = []\n",
        "cv_score_ = 0\n",
        "oof_preds = np.zeros((X.shape[0],))\n",
        "\n",
        "\n",
        "for i,(tr_index,test_index) in enumerate(kf.split(X,y)):\n",
        "    #   print()\n",
        "    print(f'######### FOLD {i+1} / {kf.n_splits} ')\n",
        "  \n",
        "    X_train,y_train = X.iloc[tr_index,:],y[tr_index]\n",
        "    X_test,y_test = X.iloc[test_index,:],y[test_index]\n",
        "      # merror or mlogloss\n",
        "    gbm = xgb.XGBClassifier(eval_metric = 'logloss',\n",
        "                            # objective='multi:softprob',#tree_method='gpu_hist',\n",
        "                              grow_policy='lossguide', \n",
        "                              # gpu_id=0, \n",
        "                            n_estimators = 300, scale_pos_weight=30,\n",
        "                              learning_rate = 0.03, random_state = 2021, colsample_bytree=1 ,reg_alpha=1, reg_lambda=1)\n",
        "\n",
        "    gbm.fit(X_train,y_train,eval_set = [(X_test, y_test)],early_stopping_rounds  = 50, verbose=200)\n",
        "\n",
        "    cv_score_ += f1_score(y_test, gbm.predict(X_test)) / kf.n_splits\n",
        "    oof_preds[test_index] = gbm.predict_proba(X_test)[:,1]\n",
        "\n",
        "    preds = gbm.predict_proba(test_new[X_train.columns] , gbm.best_iteration)[:,1]\n",
        "    xgb_predictions.append(preds)\n",
        "\n",
        "    feats[f'Fold {i}'] = gbm.feature_importances_\n",
        "\n",
        "feats['Importances'] = feats.mean(axis=1)\n",
        "print( ' CV F1_SCORE : ',cv_score_)\n",
        "# preds_xgb = np.average(gbm_predictions, axis=0)\n",
        "# print(preds_xgb.shape"
      ],
      "execution_count": 16,
      "outputs": [
        {
          "output_type": "stream",
          "name": "stdout",
          "text": [
            "######### FOLD 1 / 5 \n",
            "[0]\tvalidation_0-logloss:0.699347\n",
            "Will train until validation_0-logloss hasn't improved in 50 rounds.\n",
            "Stopping. Best iteration:\n",
            "[0]\tvalidation_0-logloss:0.699347\n",
            "\n",
            "######### FOLD 2 / 5 \n",
            "[0]\tvalidation_0-logloss:0.700517\n",
            "Will train until validation_0-logloss hasn't improved in 50 rounds.\n",
            "Stopping. Best iteration:\n",
            "[0]\tvalidation_0-logloss:0.700517\n",
            "\n",
            "######### FOLD 3 / 5 \n",
            "[0]\tvalidation_0-logloss:0.699911\n",
            "Will train until validation_0-logloss hasn't improved in 50 rounds.\n",
            "Stopping. Best iteration:\n",
            "[0]\tvalidation_0-logloss:0.699911\n",
            "\n",
            "######### FOLD 4 / 5 \n",
            "[0]\tvalidation_0-logloss:0.697297\n",
            "Will train until validation_0-logloss hasn't improved in 50 rounds.\n",
            "Stopping. Best iteration:\n",
            "[0]\tvalidation_0-logloss:0.697297\n",
            "\n",
            "######### FOLD 5 / 5 \n",
            "[0]\tvalidation_0-logloss:0.699103\n",
            "Will train until validation_0-logloss hasn't improved in 50 rounds.\n",
            "Stopping. Best iteration:\n",
            "[0]\tvalidation_0-logloss:0.699103\n",
            "\n",
            " CV F1_SCORE :  0.5595081324465583\n"
          ]
        }
      ]
    },
    {
      "cell_type": "code",
      "metadata": {
        "id": "LRqFC1-2eF53"
      },
      "source": [
        "xgbpreds_mean = np.mean(xgb_predictions, axis=0)# mean of all the predictions\n",
        "final = [] #list to store the final results \n",
        "for x in xgbpreds_mean:\n",
        "    if x >= 0.51:\n",
        "        final.append(1)\n",
        "    else:\n",
        "        final.append(0)\n",
        "submit = test_df.copy() #Copy the submission file to the variable submit \n",
        "submit['Potability'] = final\n",
        "submit[['region_area_','Potability']].to_csv('000xgbbaseline.csv',index=False) #creating and naming the file ready for submission"
      ],
      "execution_count": 17,
      "outputs": []
    },
    {
      "cell_type": "code",
      "metadata": {
        "colab": {
          "base_uri": "https://localhost:8080/",
          "height": 204
        },
        "id": "zXhZm_epl34I",
        "outputId": "f6dedc6e-3261-40ce-d1e5-9699f213e44e"
      },
      "source": [
        "submit[['region_area_','Potability']].head()"
      ],
      "execution_count": 18,
      "outputs": [
        {
          "output_type": "execute_result",
          "data": {
            "text/html": [
              "<div>\n",
              "<style scoped>\n",
              "    .dataframe tbody tr th:only-of-type {\n",
              "        vertical-align: middle;\n",
              "    }\n",
              "\n",
              "    .dataframe tbody tr th {\n",
              "        vertical-align: top;\n",
              "    }\n",
              "\n",
              "    .dataframe thead th {\n",
              "        text-align: right;\n",
              "    }\n",
              "</style>\n",
              "<table border=\"1\" class=\"dataframe\">\n",
              "  <thead>\n",
              "    <tr style=\"text-align: right;\">\n",
              "      <th></th>\n",
              "      <th>region_area_</th>\n",
              "      <th>Potability</th>\n",
              "    </tr>\n",
              "  </thead>\n",
              "  <tbody>\n",
              "    <tr>\n",
              "      <th>0</th>\n",
              "      <td>region_area_0</td>\n",
              "      <td>1</td>\n",
              "    </tr>\n",
              "    <tr>\n",
              "      <th>1</th>\n",
              "      <td>region_area_10</td>\n",
              "      <td>1</td>\n",
              "    </tr>\n",
              "    <tr>\n",
              "      <th>2</th>\n",
              "      <td>region_area_1006</td>\n",
              "      <td>1</td>\n",
              "    </tr>\n",
              "    <tr>\n",
              "      <th>3</th>\n",
              "      <td>region_area_1010</td>\n",
              "      <td>1</td>\n",
              "    </tr>\n",
              "    <tr>\n",
              "      <th>4</th>\n",
              "      <td>region_area_1011</td>\n",
              "      <td>1</td>\n",
              "    </tr>\n",
              "  </tbody>\n",
              "</table>\n",
              "</div>"
            ],
            "text/plain": [
              "       region_area_  Potability\n",
              "0     region_area_0           1\n",
              "1    region_area_10           1\n",
              "2  region_area_1006           1\n",
              "3  region_area_1010           1\n",
              "4  region_area_1011           1"
            ]
          },
          "metadata": {},
          "execution_count": 18
        }
      ]
    },
    {
      "cell_type": "code",
      "metadata": {
        "colab": {
          "base_uri": "https://localhost:8080/"
        },
        "id": "CU8K3fy4eGkV",
        "outputId": "d4d72994-a78d-4ed0-d808-94a92c14b874"
      },
      "source": [
        "seed = 2021 # seed\n",
        "skf = StratifiedKFold(n_splits=5, shuffle=True, random_state=seed) # for cross validation\n",
        "sklearnscores = []\n",
        "# torchscores = []\n",
        "catpreds= []\n",
        "\n",
        "\n",
        "np.random.seed(2021)\n",
        "seeds = np.random.randint(low=1, high=3000, size=5)\n",
        "\n",
        "X = train_df.drop(columns=['region_area_','Potability']) #config_.preprocess.to_drop+config_.preprocess.target)\n",
        "y = train_df['Potability'] #[config_.preprocess.target[0]].astype(int)\n",
        "\n",
        "test_new = test_df.drop(columns=['region_area_']) #config_.preprocess.to_drop)\n",
        "test_fields = test_df['region_area_'] #[config_.preprocess.to_drop[0]]  #field\n",
        "\n",
        "#creating a for loop for the stratified k fold\n",
        "i = 0\n",
        "for train, test in skf.split(X, y):\n",
        "    x_train, x_test, y_train, y_test = X.iloc[train], X.iloc[test], y.iloc[train], y.iloc[test]# spliting the data\n",
        "\n",
        "\n",
        "    estimator = cb.CatBoostClassifier(iterations=10000,                     #has_time=True ,bootstrap_type='No',random_strength=0,\n",
        "                                   learning_rate=0.08,\n",
        "                                  #  objective='MultiClass',\n",
        "                                  use_best_model=True,\n",
        "                                   reg_lambda=1,\n",
        "                                   random_seed=seed,         #depth=3,border_count=32, l2_leaf_reg=3,\n",
        "                                  #  task_type='GPU',\n",
        "                                  #  loss_function='MultiClass',\n",
        "                                  early_stopping_rounds=50)\n",
        "\n",
        "    # estimator = CatBoostClassifier(**params)\n",
        "    # parameters for the algorithm this was done by manual tuning\n",
        "\n",
        "    estimator.fit( x_train, y_train, eval_set = (x_test,y_test),verbose=100 ,early_stopping_rounds=50)# fitting on train data\n",
        "    \n",
        "    print('Number of splits trained {} '.format(i+1))\n",
        "    score1 =  f1_score(y_test, gbm.predict(x_test))  # checking the cross_entropy loss\n",
        "\n",
        "    # score2 = torchLoss(estimator.predict_proba(x_test) , y_test)\n",
        "    # cm = ConfusionMatrix(actual_vector=np.array(y_test), predict_vector=estimator.predict(x_test))\n",
        "    # plt.show(cm.print_matrix())\n",
        "    print('f1_score score: {}'.format(score1))\n",
        "\n",
        "    catpred = estimator.predict_proba(test_new)[:,1] # making prediction probabities\n",
        "    sklearnscores.append(score1)\n",
        "    # torchscores.append(score2)\n",
        "\n",
        "    catpreds.append(catpred)\n",
        "    i += 1\n",
        "print('mean f1_scores: {} '.format(np.mean(sklearnscores)))"
      ],
      "execution_count": 19,
      "outputs": [
        {
          "output_type": "stream",
          "name": "stdout",
          "text": [
            "0:\tlearn: 0.6831234\ttest: 0.6849112\tbest: 0.6849112 (0)\ttotal: 51.9ms\tremaining: 8m 39s\n",
            "Stopped by overfitting detector  (50 iterations wait)\n",
            "\n",
            "bestTest = 0.6347719392\n",
            "bestIteration = 43\n",
            "\n",
            "Shrink model to first 44 iterations.\n",
            "Number of splits trained 1 \n",
            "f1_score score: 0.5585874799357946\n",
            "0:\tlearn: 0.6823606\ttest: 0.6839374\tbest: 0.6839374 (0)\ttotal: 3.82ms\tremaining: 38.2s\n",
            "100:\tlearn: 0.4284920\ttest: 0.6369788\tbest: 0.6298999 (54)\ttotal: 346ms\tremaining: 33.9s\n",
            "Stopped by overfitting detector  (50 iterations wait)\n",
            "\n",
            "bestTest = 0.6298999321\n",
            "bestIteration = 54\n",
            "\n",
            "Shrink model to first 55 iterations.\n",
            "Number of splits trained 2 \n",
            "f1_score score: 0.5617977528089888\n",
            "0:\tlearn: 0.6837363\ttest: 0.6860319\tbest: 0.6860319 (0)\ttotal: 3.57ms\tremaining: 35.7s\n",
            "Stopped by overfitting detector  (50 iterations wait)\n",
            "\n",
            "bestTest = 0.640180056\n",
            "bestIteration = 47\n",
            "\n",
            "Shrink model to first 48 iterations.\n",
            "Number of splits trained 3 \n",
            "f1_score score: 0.5641025641025641\n",
            "0:\tlearn: 0.6839034\ttest: 0.6878887\tbest: 0.6878887 (0)\ttotal: 3.58ms\tremaining: 35.8s\n",
            "100:\tlearn: 0.4238451\ttest: 0.6398103\tbest: 0.6398103 (100)\ttotal: 334ms\tremaining: 32.7s\n",
            "Stopped by overfitting detector  (50 iterations wait)\n",
            "\n",
            "bestTest = 0.6373496776\n",
            "bestIteration = 135\n",
            "\n",
            "Shrink model to first 136 iterations.\n",
            "Number of splits trained 4 \n",
            "f1_score score: 0.5623003194888179\n",
            "0:\tlearn: 0.6827317\ttest: 0.6841686\tbest: 0.6841686 (0)\ttotal: 3.61ms\tremaining: 36.1s\n",
            "100:\tlearn: 0.4359012\ttest: 0.6357285\tbest: 0.6327831 (79)\ttotal: 355ms\tremaining: 34.8s\n",
            "Stopped by overfitting detector  (50 iterations wait)\n",
            "\n",
            "bestTest = 0.6327830967\n",
            "bestIteration = 79\n",
            "\n",
            "Shrink model to first 80 iterations.\n",
            "Number of splits trained 5 \n",
            "f1_score score: 0.5599999999999999\n",
            "mean f1_scores: 0.561357623267233 \n"
          ]
        }
      ]
    },
    {
      "cell_type": "code",
      "metadata": {
        "id": "Zrc5qcjpg8OB"
      },
      "source": [
        "catpreds_mean = np.mean(catpreds, axis=0)# mean of all the predictions\n",
        "final = [] #list to store the final results \n",
        "for x in catpreds_mean:\n",
        "    if x >= 0.51:\n",
        "        final.append(1)\n",
        "    else:\n",
        "        final.append(0)\n",
        "submit = test_df.copy() #Copy the submission file to the variable submit \n",
        "submit['Potability'] = final\n",
        "submit[['region_area_','Potability']].to_csv('000catbaseline.csv',index=False) #creating and naming the file ready for submission"
      ],
      "execution_count": 20,
      "outputs": []
    },
    {
      "cell_type": "code",
      "metadata": {
        "colab": {
          "base_uri": "https://localhost:8080/",
          "height": 204
        },
        "id": "mokOz9LpB22-",
        "outputId": "f16a96a4-8562-44f7-df24-f1b623ed280e"
      },
      "source": [
        "submit[['region_area_','Potability']].head()"
      ],
      "execution_count": 21,
      "outputs": [
        {
          "output_type": "execute_result",
          "data": {
            "text/html": [
              "<div>\n",
              "<style scoped>\n",
              "    .dataframe tbody tr th:only-of-type {\n",
              "        vertical-align: middle;\n",
              "    }\n",
              "\n",
              "    .dataframe tbody tr th {\n",
              "        vertical-align: top;\n",
              "    }\n",
              "\n",
              "    .dataframe thead th {\n",
              "        text-align: right;\n",
              "    }\n",
              "</style>\n",
              "<table border=\"1\" class=\"dataframe\">\n",
              "  <thead>\n",
              "    <tr style=\"text-align: right;\">\n",
              "      <th></th>\n",
              "      <th>region_area_</th>\n",
              "      <th>Potability</th>\n",
              "    </tr>\n",
              "  </thead>\n",
              "  <tbody>\n",
              "    <tr>\n",
              "      <th>0</th>\n",
              "      <td>region_area_0</td>\n",
              "      <td>0</td>\n",
              "    </tr>\n",
              "    <tr>\n",
              "      <th>1</th>\n",
              "      <td>region_area_10</td>\n",
              "      <td>0</td>\n",
              "    </tr>\n",
              "    <tr>\n",
              "      <th>2</th>\n",
              "      <td>region_area_1006</td>\n",
              "      <td>0</td>\n",
              "    </tr>\n",
              "    <tr>\n",
              "      <th>3</th>\n",
              "      <td>region_area_1010</td>\n",
              "      <td>0</td>\n",
              "    </tr>\n",
              "    <tr>\n",
              "      <th>4</th>\n",
              "      <td>region_area_1011</td>\n",
              "      <td>0</td>\n",
              "    </tr>\n",
              "  </tbody>\n",
              "</table>\n",
              "</div>"
            ],
            "text/plain": [
              "       region_area_  Potability\n",
              "0     region_area_0           0\n",
              "1    region_area_10           0\n",
              "2  region_area_1006           0\n",
              "3  region_area_1010           0\n",
              "4  region_area_1011           0"
            ]
          },
          "metadata": {},
          "execution_count": 21
        }
      ]
    },
    {
      "cell_type": "markdown",
      "metadata": {
        "id": "q1km702Lexk2"
      },
      "source": [
        "LGBM"
      ]
    },
    {
      "cell_type": "code",
      "metadata": {
        "colab": {
          "base_uri": "https://localhost:8080/"
        },
        "id": "nctlU_cteUNd",
        "outputId": "150c23f7-c9ea-45a3-83bc-b8e305b7cd49"
      },
      "source": [
        "since = time.time()\n",
        "skf = StratifiedKFold(n_splits=config_.defaults.nKfold, shuffle=True, random_state=config_.defaults.seed_value) # for cross validation\n",
        "sklearnscores = []\n",
        "lgbmpreds= []\n",
        "\n",
        "np.random.seed(config_.defaults.seed_value)\n",
        "seeds = np.random.randint(low=1, high=3000, size=10)\n",
        "\n",
        "X = train_df.drop(columns=['region_area_','Potability']) #config_.preprocess.to_drop+config_.preprocess.target)\n",
        "y = train_df['Potability'] #[config_.preprocess.target[0]].astype(int)\n",
        "\n",
        "test_new = test_df.drop(columns=['region_area_']) #config_.preprocess.to_drop)\n",
        "test_fields = test_df['region_area_'] #[config_.preprocess.to_drop[0]]  #field\n",
        "\n",
        "#creating a for loop for the stratified k fold\n",
        "i = 0\n",
        "for train, test in skf.split(X, y):\n",
        "    print(f'########### Fold {i+1} / {skf.n_splits} ')\n",
        "    \n",
        "    x_train, x_test, y_train, y_test = X.iloc[train], X.iloc[test], y.iloc[train], y.iloc[test]# spliting the data\n",
        "    \n",
        "    estimator = lgb.LGBMClassifier( boosting_type='gbdt', num_leaves=30,scale_pos_weight=2, num_class =1,\n",
        "                               max_depth=- 1, learning_rate=0.08, n_estimators=800, subsample_for_bin=300000,\n",
        "                               deterministic=True,objective='binary', class_weight=None, min_split_gain=0.0,\n",
        "                               min_child_weight=0.001, min_child_samples=20, subsample=1.0, subsample_freq=0, \n",
        "                               colsample_bytree=1.0, reg_alpha=1, reg_lambda=1, random_state=seeds[i], n_jobs=- 1,\n",
        "                               silent=True, device_type='CPU',importance_type='split')\n",
        "\n",
        "#     estimator = LGBMClassifier(**config_.model,random_state=seeds[i])\n",
        "# early_stopping_rounds=50, \n",
        "    estimator.fit( x_train, y_train, eval_set = (x_test,y_test),eval_metric = 'binary_error',  verbose=100, early_stopping_rounds=50 )# fitting on train data\n",
        "\n",
        "    score1 = f1_score(y_test, estimator.predict(x_test)) # checking the cross_entropy loss\n",
        "    print('f1 score: {}'.format(score1))\n",
        "\n",
        "    pred = estimator.predict_proba(test_new)[:,1] # making prediction probabities\n",
        "    sklearnscores.append(score1)\n",
        "\n",
        "    lgbmpreds.append(pred)\n",
        "    i += 1\n",
        "\n",
        "print('mean f1_scores from sklearn: {}'.format(np.mean(sklearnscores)))\n",
        "\n",
        "time_elapsed = time.time() - since\n",
        "print(f'Pre-process the data: {time_elapsed // 60} m {time_elapsed % 60} s')"
      ],
      "execution_count": 22,
      "outputs": [
        {
          "output_type": "stream",
          "name": "stdout",
          "text": [
            "########### Fold 1 / 10 \n",
            "Training until validation scores don't improve for 50 rounds\n",
            "Early stopping, best iteration is:\n",
            "[14]\tvalid_0's binary_error: 0.323009\tvalid_0's binary_logloss: 0.639767\n",
            "f1 score: 0.5780346820809248\n",
            "########### Fold 2 / 10 \n",
            "Training until validation scores don't improve for 50 rounds\n",
            "Early stopping, best iteration is:\n",
            "[8]\tvalid_0's binary_error: 0.349558\tvalid_0's binary_logloss: 0.655459\n",
            "f1 score: 0.4768211920529801\n",
            "########### Fold 3 / 10 \n",
            "Training until validation scores don't improve for 50 rounds\n",
            "Early stopping, best iteration is:\n",
            "[11]\tvalid_0's binary_error: 0.327434\tvalid_0's binary_logloss: 0.644865\n",
            "f1 score: 0.5542168674698795\n",
            "########### Fold 4 / 10 \n",
            "Training until validation scores don't improve for 50 rounds\n",
            "Early stopping, best iteration is:\n",
            "[9]\tvalid_0's binary_error: 0.327434\tvalid_0's binary_logloss: 0.645561\n",
            "f1 score: 0.5432098765432098\n",
            "########### Fold 5 / 10 \n",
            "Training until validation scores don't improve for 50 rounds\n",
            "Early stopping, best iteration is:\n",
            "[5]\tvalid_0's binary_error: 0.349558\tvalid_0's binary_logloss: 0.655835\n",
            "f1 score: 0.3008849557522124\n",
            "########### Fold 6 / 10 \n",
            "Training until validation scores don't improve for 50 rounds\n",
            "Early stopping, best iteration is:\n",
            "[3]\tvalid_0's binary_error: 0.389381\tvalid_0's binary_logloss: 0.661844\n",
            "f1 score: 0.0\n",
            "########### Fold 7 / 10 \n",
            "Training until validation scores don't improve for 50 rounds\n",
            "Early stopping, best iteration is:\n",
            "[5]\tvalid_0's binary_error: 0.376106\tvalid_0's binary_logloss: 0.656687\n",
            "f1 score: 0.3089430894308943\n",
            "########### Fold 8 / 10 \n",
            "Training until validation scores don't improve for 50 rounds\n",
            "Early stopping, best iteration is:\n",
            "[8]\tvalid_0's binary_error: 0.29646\tvalid_0's binary_logloss: 0.647317\n",
            "f1 score: 0.5503355704697986\n",
            "########### Fold 9 / 10 \n",
            "Training until validation scores don't improve for 50 rounds\n",
            "Early stopping, best iteration is:\n",
            "[9]\tvalid_0's binary_error: 0.314159\tvalid_0's binary_logloss: 0.638089\n",
            "f1 score: 0.5477707006369427\n",
            "########### Fold 10 / 10 \n",
            "Training until validation scores don't improve for 50 rounds\n",
            "Early stopping, best iteration is:\n",
            "[5]\tvalid_0's binary_error: 0.327434\tvalid_0's binary_logloss: 0.644629\n",
            "f1 score: 0.3392857142857143\n",
            "mean f1_scores from sklearn: 0.4199502648722556\n",
            "Pre-process the data: 0.0 m 1.3498492240905762 s\n"
          ]
        }
      ]
    },
    {
      "cell_type": "code",
      "metadata": {
        "id": "4A9gD4OogxEb"
      },
      "source": [
        "lgbmpreds_mean = np.mean(lgbmpreds, axis=0)# mean of all the predictions\n",
        "final = [] #list to store the final results \n",
        "for x in lgbmpreds_mean:\n",
        "    if x >= 0.51:\n",
        "        final.append(1)\n",
        "    else:\n",
        "        final.append(0)\n",
        "submit = test_df.copy() #Copy the submission file to the variable submit \n",
        "submit['Potability'] = final\n",
        "submit[['region_area_','Potability']].to_csv('000lgbmbaseline.csv',index=False) #creating and naming the file ready for submission"
      ],
      "execution_count": 23,
      "outputs": []
    },
    {
      "cell_type": "markdown",
      "metadata": {
        "id": "Fj9OZvR_e-qA"
      },
      "source": [
        "### XVII BASELINE"
      ]
    },
    {
      "cell_type": "code",
      "metadata": {
        "colab": {
          "base_uri": "https://localhost:8080/"
        },
        "id": "LPvnV0_Se9Hy",
        "outputId": "644941df-5834-482d-e06d-c897f1f2ab54"
      },
      "source": [
        "#Here the cross validation by using the StratifiedKfold used to split the data into train,test and validation and repeatedly and Using the LGBMClassifier as Algorithm for building the model \n",
        "skf =StratifiedKFold(n_splits=10, shuffle=True,random_state=2021) # for cross validation by StratifiedKfold\n",
        "scores = [] #list to store the sores obtained in training the model \n",
        "preds= [] #list to store the predictions \n",
        "\n",
        "X = train_df.drop(columns=['region_area_','Potability']) #config_.preprocess.to_drop+config_.preprocess.target)\n",
        "y = train_df['Potability'] #[config_.preprocess.target[0]].astype(int)\n",
        "\n",
        "test_new = test_df.drop(columns=['region_area_']) #config_.preprocess.to_drop)\n",
        "test_fields = test_df['region_area_'] #[config_.preprocess.to_drop[0]]  #field\n",
        "\n",
        "#creating a for loop for the stratified k fold to perform the cross validation \n",
        "i = 1\n",
        "for train, test in skf.split(X, y):\n",
        "    x_train, x_test= X.iloc[train], X.iloc[test] #spliting the data for x \n",
        "    y_train, y_test = y.iloc[train],y.iloc[test] #spliting the data for y \n",
        "    model = lgb.LGBMClassifier(learning_rate=0.08, n_estimators = 96,cat_smooth=10,metrics='binary_error',\n",
        "                               scale_pos_weight= 3.6,max_depth=16, seed =2021,\n",
        "                               num_leaves=49,reg_lambda=0.3) #Creating the model and tuning it with the different parameter \n",
        "    model.fit(x_train, y_train)# fitting  the model on train data\n",
        "    print(i,'Split Trained') #print the splits that trained \n",
        "    score = f1_score(y_test,model.predict(x_test)) # checking the accuracy of the model \n",
        "    pred = model.predict_proba(test_new)[:,1] # making prediction\n",
        "    scores.append(score)\n",
        "    preds.append(pred)\n",
        "    i += 1\n",
        "print('Total Mean Score Obtained :',np.mean(scores))\n",
        "\n",
        "preds_mean = np.mean(preds, axis=0)# mean of all the predictions\n",
        "final = [] #list to store the final results \n",
        "for x in preds_mean:\n",
        "    if x >= 0.51:\n",
        "        final.append(1)\n",
        "    else:\n",
        "        final.append(0)\n",
        "\n",
        "submit = test_df.copy() #Copy the submission file to the variable submit \n",
        "submit['Potability'] = final\n",
        "submit[['region_area_','Potability']].to_csv('000xviibaseline.csv',index=False) #creating and naming the file ready for submission"
      ],
      "execution_count": 24,
      "outputs": [
        {
          "output_type": "stream",
          "name": "stdout",
          "text": [
            "1 Split Trained\n",
            "2 Split Trained\n",
            "3 Split Trained\n",
            "4 Split Trained\n",
            "5 Split Trained\n",
            "6 Split Trained\n",
            "7 Split Trained\n",
            "8 Split Trained\n",
            "9 Split Trained\n",
            "10 Split Trained\n",
            "Total Mean Score Obtained : 0.5389573339467848\n"
          ]
        }
      ]
    },
    {
      "cell_type": "code",
      "metadata": {
        "id": "Z9sZ19sV5lmW"
      },
      "source": [
        "# 0.5389573339467848 # LB: 0.56"
      ],
      "execution_count": 109,
      "outputs": []
    }
  ]
}
