{
  "nbformat": 4,
  "nbformat_minor": 0,
  "metadata": {
    "colab": {
      "name": "002PW.ipynb",
      "provenance": [],
      "collapsed_sections": [
        "gEghjHd1eKqf"
      ],
      "mount_file_id": "130ELdt3p1v7CbPBDvyH-eyTyyP3T9jvM",
      "authorship_tag": "ABX9TyNnAqhFXSwEcGdE/BFu7paZ",
      "include_colab_link": true
    },
    "kernelspec": {
      "name": "python3",
      "display_name": "Python 3"
    },
    "language_info": {
      "name": "python"
    }
  },
  "cells": [
    {
      "cell_type": "markdown",
      "metadata": {
        "id": "view-in-github",
        "colab_type": "text"
      },
      "source": [
        "<a href=\"https://colab.research.google.com/github/Troublem1/Portable_Water_Classification/blob/main/002PW.ipynb\" target=\"_parent\"><img src=\"https://colab.research.google.com/assets/colab-badge.svg\" alt=\"Open In Colab\"/></a>"
      ]
    },
    {
      "cell_type": "code",
      "metadata": {
        "colab": {
          "base_uri": "https://localhost:8080/"
        },
        "id": "WBnkaTRRYMV9",
        "outputId": "a872c517-2965-490a-c2f3-aea0f9924010"
      },
      "source": [
        "!pip install -q -r /content/drive/MyDrive/workSpace/Potable_Water/configs/PW_requirements.txt\n",
        "# !pip install -q optuna==2.9.1"
      ],
      "execution_count": 1,
      "outputs": [
        {
          "output_type": "stream",
          "name": "stdout",
          "text": [
            "\u001b[K     |████████████████████████████████| 74 kB 2.6 MB/s \n",
            "\u001b[K     |████████████████████████████████| 64.4 MB 10 kB/s \n",
            "\u001b[K     |████████████████████████████████| 61 kB 311 kB/s \n",
            "\u001b[K     |████████████████████████████████| 1.8 MB 33.0 MB/s \n",
            "\u001b[K     |████████████████████████████████| 5.8 MB 18.5 MB/s \n",
            "\u001b[K     |████████████████████████████████| 72 kB 1.0 MB/s \n",
            "\u001b[K     |████████████████████████████████| 22.3 MB 1.4 MB/s \n",
            "\u001b[K     |████████████████████████████████| 112 kB 73.3 MB/s \n",
            "\u001b[K     |████████████████████████████████| 636 kB 39.3 MB/s \n",
            "\u001b[K     |████████████████████████████████| 574 kB 43.8 MB/s \n",
            "\u001b[K     |████████████████████████████████| 9.5 MB 19.9 MB/s \n",
            "\u001b[?25h  Building wheel for zindi (setup.py) ... \u001b[?25l\u001b[?25hdone\n",
            "  Building wheel for antlr4-python3-runtime (setup.py) ... \u001b[?25l\u001b[?25hdone\n"
          ]
        }
      ]
    },
    {
      "cell_type": "code",
      "metadata": {
        "colab": {
          "base_uri": "https://localhost:8080/"
        },
        "id": "iU3tBvAkDKXZ",
        "outputId": "41b9e15b-3226-471f-b123-ba3b4bb1d6df"
      },
      "source": [
        "# !pip uninstall -q scikit-learn\n",
        "!pip install scikit-learn"
      ],
      "execution_count": 2,
      "outputs": [
        {
          "output_type": "stream",
          "name": "stdout",
          "text": [
            "Requirement already satisfied: scikit-learn in /usr/local/lib/python3.7/dist-packages (0.24.2)\n",
            "Requirement already satisfied: scipy>=0.19.1 in /usr/local/lib/python3.7/dist-packages (from scikit-learn) (1.4.1)\n",
            "Requirement already satisfied: threadpoolctl>=2.0.0 in /usr/local/lib/python3.7/dist-packages (from scikit-learn) (2.2.0)\n",
            "Requirement already satisfied: numpy>=1.13.3 in /usr/local/lib/python3.7/dist-packages (from scikit-learn) (1.19.5)\n",
            "Requirement already satisfied: joblib>=0.11 in /usr/local/lib/python3.7/dist-packages (from scikit-learn) (1.0.1)\n"
          ]
        }
      ]
    },
    {
      "cell_type": "code",
      "metadata": {
        "id": "9kljeXvdYMvA"
      },
      "source": [
        "from omegaconf import OmegaConf\n",
        "from zindi.user import Zindian\n",
        "import numpy as np\n",
        "import pandas as pd\n",
        "import os\n",
        "from tqdm.notebook import tqdm\n",
        "import shutil\n",
        "from sklearn.ensemble import RandomForestClassifier\n",
        "import catboost as cb\n",
        "import xgboost as xgb\n",
        "import lightgbm as lgb\n",
        "from sklearn.model_selection import StratifiedKFold\n",
        "# import optuna\n",
        "from sklearn.model_selection import train_test_split\n",
        "from sklearn.metrics import auc,roc_auc_score, log_loss, f1_score\n",
        "from sklearn import preprocessing\n",
        "import seaborn as sns\n",
        "import joblib\n",
        "import matplotlib.pyplot as plt\n",
        "from google.colab import files\n",
        "import time\n",
        "# import tensorflow as tf"
      ],
      "execution_count": 54,
      "outputs": []
    },
    {
      "cell_type": "code",
      "metadata": {
        "id": "KtQwqd5TYNAE"
      },
      "source": [
        "os.makedirs('/content/drive/MyDrive/workSpace/Potable_Water/configs/' , exist_ok=True )"
      ],
      "execution_count": 55,
      "outputs": []
    },
    {
      "cell_type": "code",
      "metadata": {
        "id": "J6TgK3EFYNTl"
      },
      "source": [
        "params = {'defaults':{'seed_value':2021, 'nKfold':10},\n",
        "'dir': {'model_name':'002',\n",
        "        'data_path':'/content/drive/MyDrive/workSpace/Potable_Water/data/',\n",
        "        'train_file':'/content/drive/MyDrive/workSpace/Potable_Water/data/Train.csv' ,\n",
        "        'test_file':'/content/drive/MyDrive/workSpace/Potable_Water/data/Test.csv' ,\n",
        "        'submit_file':'/content/drive/MyDrive/workSpace/Potable_Water/data/SampleSubmission.csv',\n",
        "        'model_path':'/content/drive/MyDrive/workSpace/Potable_Water/models/',\n",
        "        'checkpoints_path':'/content/drive/MyDrive/workSpace/Potable_Water/checkpoints/',\n",
        "        'predictions_path':'/content/drive/MyDrive/workSpace/Potable_Water/submissions/'},\n",
        "\n",
        "# 'preprocessing':{'remove_traindf_cols':['user_id','CHURN'], \n",
        "#                'remove_testdf_cols':['user_id'],'cat_cols_remove':'user_id',\n",
        "#                'feature_cols':['FREQUENCE_RECH','DATA_VOLUME', 'TIGO', 'FREQ_TOP_PACK', 'ARPU_SEGMENT', 'ORANGE', \n",
        "#                                'ON_NET', 'REVENUE', 'MONTANT', 'REGULARITY', 'FREQUENCE', 'ZONE2', 'ZONE1'],\n",
        "#                'category_cols':['REGION', 'TENURE', 'MRG', 'TOP_PACK'],\n",
        "#                'target_col':'CHURN'},\n",
        "          \n",
        "  'model':{'boosting_type': 'gbdt','path_smooth':0.3 ,'min_data_in_leaf':1000,\n",
        "          #  'class_weights':'balanced',\n",
        "          #  'is_unbalance':True,\n",
        "          #  'num_class':1,\n",
        "           'learning_rate':0.2,'num_leaves':30 ,'objective': 'binary','metric': 'auc','max_depth':20,\n",
        "                'cat_smooth':20,'n_estimators': 98,'colsample_bytree' : 1 ,'deterministic':True,\n",
        "                # 'categorical_feature':['REGION', 'TENURE', 'MRG', 'TOP_PACK'],\n",
        "                'seed': 2021,'silent':False,'num_iterations':900 ,'reg_lambda':2,'reg_alpha':2}}\n",
        "\n",
        "if '002PW.yaml' in os.listdir('/content/drive/MyDrive/workSpace/Potable_Water/configs/'):\n",
        "  config_ = OmegaConf.load('/content/drive/MyDrive/workSpace/Potable_Water/configs/002PW.yaml')\n",
        "else:\n",
        "  OmegaConf.save(config=params, f='/content/drive/MyDrive/workSpace/Potable_Water/configs/002PW.yaml')\n",
        "  config_ = OmegaConf.load('/content/drive/MyDrive/workSpace/Potable_Water/configs/002PW.yaml')\n"
      ],
      "execution_count": 56,
      "outputs": []
    },
    {
      "cell_type": "code",
      "metadata": {
        "colab": {
          "base_uri": "https://localhost:8080/"
        },
        "id": "Hzc8_UzFbTbx",
        "outputId": "9a9f17c4-33fa-487e-ea34-4e2e82be78a3"
      },
      "source": [
        "print(OmegaConf.to_yaml(config_.dir))"
      ],
      "execution_count": 57,
      "outputs": [
        {
          "output_type": "stream",
          "name": "stdout",
          "text": [
            "model_name: '002'\n",
            "data_path: /content/drive/MyDrive/workSpace/Potable_Water/data/\n",
            "train_file: /content/drive/MyDrive/workSpace/Potable_Water/data/Train.csv\n",
            "test_file: /content/drive/MyDrive/workSpace/Potable_Water/data/Test.csv\n",
            "submit_file: /content/drive/MyDrive/workSpace/Potable_Water/data/SampleSubmission.csv\n",
            "model_path: /content/drive/MyDrive/workSpace/Potable_Water/models/\n",
            "checkpoints_path: /content/drive/MyDrive/workSpace/Potable_Water/checkpoints/\n",
            "predictions_path: /content/drive/MyDrive/workSpace/Potable_Water/submissions/\n",
            "\n"
          ]
        }
      ]
    },
    {
      "cell_type": "code",
      "metadata": {
        "id": "J7uLzHNWbTXv"
      },
      "source": [
        "os.makedirs(config_.dir.model_path , exist_ok=True )\n",
        "os.makedirs(config_.dir.predictions_path, exist_ok=True)"
      ],
      "execution_count": 58,
      "outputs": []
    },
    {
      "cell_type": "code",
      "metadata": {
        "id": "mszIbQArbX04"
      },
      "source": [
        "# # create a user object\n",
        "# my_username = \"ZzyZx\"\n",
        "# user = Zindian(username = my_username)\n",
        "\n",
        "# # Select a Zindi challenge\n",
        "# user.select_a_challenge()  #current index 5\n",
        "# user.which_challenge\n",
        "\n",
        "# # Download the dataset of the selected challenge for the sfc select 2\n",
        "# user.download_dataset(destination=config_.dir.data_path)"
      ],
      "execution_count": 59,
      "outputs": []
    },
    {
      "cell_type": "code",
      "metadata": {
        "colab": {
          "base_uri": "https://localhost:8080/"
        },
        "id": "fHBWH4pzbXsL",
        "outputId": "db2deb7d-069a-4d18-f576-6b96c9458339"
      },
      "source": [
        "print(OmegaConf.to_yaml(config_.defaults))"
      ],
      "execution_count": 60,
      "outputs": [
        {
          "output_type": "stream",
          "name": "stdout",
          "text": [
            "seed_value: 2021\n",
            "nKfold: 10\n",
            "\n"
          ]
        }
      ]
    },
    {
      "cell_type": "code",
      "metadata": {
        "id": "Lxm810t9cPc4"
      },
      "source": [
        "# Setting SEED to Reproduce Same Results even with \"GPU\"\n",
        "import os\n",
        "os.environ['PYTHONHASHSEED'] = str(config_.defaults.seed_value)\n",
        "import random\n",
        "random.seed(config_.defaults.seed_value)\n",
        "import numpy as np\n",
        "np.random.seed(config_.defaults.seed_value)\n"
      ],
      "execution_count": 61,
      "outputs": []
    },
    {
      "cell_type": "code",
      "metadata": {
        "colab": {
          "base_uri": "https://localhost:8080/"
        },
        "id": "jW21CbOzcR98",
        "outputId": "848d2c82-bfd1-4b6c-d791-da471281c0ca"
      },
      "source": [
        "print(OmegaConf.to_yaml(config_.dir))"
      ],
      "execution_count": 62,
      "outputs": [
        {
          "output_type": "stream",
          "name": "stdout",
          "text": [
            "model_name: '002'\n",
            "data_path: /content/drive/MyDrive/workSpace/Potable_Water/data/\n",
            "train_file: /content/drive/MyDrive/workSpace/Potable_Water/data/Train.csv\n",
            "test_file: /content/drive/MyDrive/workSpace/Potable_Water/data/Test.csv\n",
            "submit_file: /content/drive/MyDrive/workSpace/Potable_Water/data/SampleSubmission.csv\n",
            "model_path: /content/drive/MyDrive/workSpace/Potable_Water/models/\n",
            "checkpoints_path: /content/drive/MyDrive/workSpace/Potable_Water/checkpoints/\n",
            "predictions_path: /content/drive/MyDrive/workSpace/Potable_Water/submissions/\n",
            "\n"
          ]
        }
      ]
    },
    {
      "cell_type": "code",
      "metadata": {
        "id": "suxmPZdEcVLH"
      },
      "source": [
        "train_df = pd.read_csv(config_.dir.train_file)\n",
        "test_df = pd.read_csv(config_.dir.test_file)\n",
        "sub_df = pd.read_csv(config_.dir.submit_file)"
      ],
      "execution_count": 63,
      "outputs": []
    },
    {
      "cell_type": "code",
      "metadata": {
        "colab": {
          "base_uri": "https://localhost:8080/",
          "height": 204
        },
        "id": "plE5-Jk7cZc7",
        "outputId": "69c39d09-9dd7-49fe-f4c3-7a630e1872ee"
      },
      "source": [
        "train_df.head()"
      ],
      "execution_count": 64,
      "outputs": [
        {
          "output_type": "execute_result",
          "data": {
            "text/html": [
              "<div>\n",
              "<style scoped>\n",
              "    .dataframe tbody tr th:only-of-type {\n",
              "        vertical-align: middle;\n",
              "    }\n",
              "\n",
              "    .dataframe tbody tr th {\n",
              "        vertical-align: top;\n",
              "    }\n",
              "\n",
              "    .dataframe thead th {\n",
              "        text-align: right;\n",
              "    }\n",
              "</style>\n",
              "<table border=\"1\" class=\"dataframe\">\n",
              "  <thead>\n",
              "    <tr style=\"text-align: right;\">\n",
              "      <th></th>\n",
              "      <th>region_area_</th>\n",
              "      <th>ph</th>\n",
              "      <th>Hardness</th>\n",
              "      <th>Solids</th>\n",
              "      <th>Chloramines</th>\n",
              "      <th>Sulfate</th>\n",
              "      <th>Conductivity</th>\n",
              "      <th>Organic_carbon</th>\n",
              "      <th>Trihalomethanes</th>\n",
              "      <th>Turbidity</th>\n",
              "      <th>Potability</th>\n",
              "    </tr>\n",
              "  </thead>\n",
              "  <tbody>\n",
              "    <tr>\n",
              "      <th>0</th>\n",
              "      <td>region_area_1</td>\n",
              "      <td>3.716080</td>\n",
              "      <td>180.196811</td>\n",
              "      <td>18630.362669</td>\n",
              "      <td>6.330435</td>\n",
              "      <td>NaN</td>\n",
              "      <td>602.990359</td>\n",
              "      <td>15.285013</td>\n",
              "      <td>56.444076</td>\n",
              "      <td>4.500656</td>\n",
              "      <td>0</td>\n",
              "    </tr>\n",
              "    <tr>\n",
              "      <th>1</th>\n",
              "      <td>region_area_100</td>\n",
              "      <td>4.270716</td>\n",
              "      <td>217.611599</td>\n",
              "      <td>24405.555346</td>\n",
              "      <td>7.086700</td>\n",
              "      <td>297.951852</td>\n",
              "      <td>359.623910</td>\n",
              "      <td>13.583526</td>\n",
              "      <td>54.589840</td>\n",
              "      <td>3.763906</td>\n",
              "      <td>0</td>\n",
              "    </tr>\n",
              "    <tr>\n",
              "      <th>2</th>\n",
              "      <td>region_area_1000</td>\n",
              "      <td>6.648849</td>\n",
              "      <td>232.462013</td>\n",
              "      <td>30733.808648</td>\n",
              "      <td>5.656462</td>\n",
              "      <td>344.670335</td>\n",
              "      <td>267.809179</td>\n",
              "      <td>17.863444</td>\n",
              "      <td>35.411181</td>\n",
              "      <td>4.827527</td>\n",
              "      <td>0</td>\n",
              "    </tr>\n",
              "    <tr>\n",
              "      <th>3</th>\n",
              "      <td>region_area_1001</td>\n",
              "      <td>NaN</td>\n",
              "      <td>261.753637</td>\n",
              "      <td>21174.713291</td>\n",
              "      <td>7.314074</td>\n",
              "      <td>NaN</td>\n",
              "      <td>582.848407</td>\n",
              "      <td>15.215849</td>\n",
              "      <td>90.367455</td>\n",
              "      <td>4.217553</td>\n",
              "      <td>0</td>\n",
              "    </tr>\n",
              "    <tr>\n",
              "      <th>4</th>\n",
              "      <td>region_area_1002</td>\n",
              "      <td>9.323584</td>\n",
              "      <td>263.484560</td>\n",
              "      <td>15751.480111</td>\n",
              "      <td>5.196259</td>\n",
              "      <td>297.593625</td>\n",
              "      <td>409.878704</td>\n",
              "      <td>10.727265</td>\n",
              "      <td>74.669285</td>\n",
              "      <td>3.006650</td>\n",
              "      <td>0</td>\n",
              "    </tr>\n",
              "  </tbody>\n",
              "</table>\n",
              "</div>"
            ],
            "text/plain": [
              "       region_area_        ph  ...  Turbidity  Potability\n",
              "0     region_area_1  3.716080  ...   4.500656           0\n",
              "1   region_area_100  4.270716  ...   3.763906           0\n",
              "2  region_area_1000  6.648849  ...   4.827527           0\n",
              "3  region_area_1001       NaN  ...   4.217553           0\n",
              "4  region_area_1002  9.323584  ...   3.006650           0\n",
              "\n",
              "[5 rows x 11 columns]"
            ]
          },
          "metadata": {},
          "execution_count": 64
        }
      ]
    },
    {
      "cell_type": "code",
      "metadata": {
        "colab": {
          "base_uri": "https://localhost:8080/",
          "height": 204
        },
        "id": "jstW_W6uhbDV",
        "outputId": "6a5aad19-34b5-45ab-a888-637af89156c6"
      },
      "source": [
        "test_df.head()"
      ],
      "execution_count": 65,
      "outputs": [
        {
          "output_type": "execute_result",
          "data": {
            "text/html": [
              "<div>\n",
              "<style scoped>\n",
              "    .dataframe tbody tr th:only-of-type {\n",
              "        vertical-align: middle;\n",
              "    }\n",
              "\n",
              "    .dataframe tbody tr th {\n",
              "        vertical-align: top;\n",
              "    }\n",
              "\n",
              "    .dataframe thead th {\n",
              "        text-align: right;\n",
              "    }\n",
              "</style>\n",
              "<table border=\"1\" class=\"dataframe\">\n",
              "  <thead>\n",
              "    <tr style=\"text-align: right;\">\n",
              "      <th></th>\n",
              "      <th>region_area_</th>\n",
              "      <th>ph</th>\n",
              "      <th>Hardness</th>\n",
              "      <th>Solids</th>\n",
              "      <th>Chloramines</th>\n",
              "      <th>Sulfate</th>\n",
              "      <th>Conductivity</th>\n",
              "      <th>Organic_carbon</th>\n",
              "      <th>Trihalomethanes</th>\n",
              "      <th>Turbidity</th>\n",
              "    </tr>\n",
              "  </thead>\n",
              "  <tbody>\n",
              "    <tr>\n",
              "      <th>0</th>\n",
              "      <td>region_area_0</td>\n",
              "      <td>NaN</td>\n",
              "      <td>255.664346</td>\n",
              "      <td>20791.623791</td>\n",
              "      <td>6.995401</td>\n",
              "      <td>369.261555</td>\n",
              "      <td>574.413654</td>\n",
              "      <td>10.484783</td>\n",
              "      <td>87.105970</td>\n",
              "      <td>2.963135</td>\n",
              "    </tr>\n",
              "    <tr>\n",
              "      <th>1</th>\n",
              "      <td>region_area_10</td>\n",
              "      <td>7.360640</td>\n",
              "      <td>216.294688</td>\n",
              "      <td>32452.919220</td>\n",
              "      <td>7.245890</td>\n",
              "      <td>327.369467</td>\n",
              "      <td>435.488419</td>\n",
              "      <td>15.691810</td>\n",
              "      <td>78.855016</td>\n",
              "      <td>3.662292</td>\n",
              "    </tr>\n",
              "    <tr>\n",
              "      <th>2</th>\n",
              "      <td>region_area_1006</td>\n",
              "      <td>7.230845</td>\n",
              "      <td>228.348694</td>\n",
              "      <td>17864.994196</td>\n",
              "      <td>5.513418</td>\n",
              "      <td>344.338446</td>\n",
              "      <td>377.794992</td>\n",
              "      <td>20.017950</td>\n",
              "      <td>59.418053</td>\n",
              "      <td>5.622018</td>\n",
              "    </tr>\n",
              "    <tr>\n",
              "      <th>3</th>\n",
              "      <td>region_area_1010</td>\n",
              "      <td>4.797460</td>\n",
              "      <td>241.089018</td>\n",
              "      <td>21280.551369</td>\n",
              "      <td>5.883692</td>\n",
              "      <td>327.539307</td>\n",
              "      <td>367.541193</td>\n",
              "      <td>11.818821</td>\n",
              "      <td>63.978068</td>\n",
              "      <td>4.038503</td>\n",
              "    </tr>\n",
              "    <tr>\n",
              "      <th>4</th>\n",
              "      <td>region_area_1011</td>\n",
              "      <td>9.319176</td>\n",
              "      <td>250.107456</td>\n",
              "      <td>14294.545161</td>\n",
              "      <td>7.480130</td>\n",
              "      <td>366.796865</td>\n",
              "      <td>348.546450</td>\n",
              "      <td>15.320293</td>\n",
              "      <td>63.506468</td>\n",
              "      <td>4.129230</td>\n",
              "    </tr>\n",
              "  </tbody>\n",
              "</table>\n",
              "</div>"
            ],
            "text/plain": [
              "       region_area_        ph  ...  Trihalomethanes  Turbidity\n",
              "0     region_area_0       NaN  ...        87.105970   2.963135\n",
              "1    region_area_10  7.360640  ...        78.855016   3.662292\n",
              "2  region_area_1006  7.230845  ...        59.418053   5.622018\n",
              "3  region_area_1010  4.797460  ...        63.978068   4.038503\n",
              "4  region_area_1011  9.319176  ...        63.506468   4.129230\n",
              "\n",
              "[5 rows x 10 columns]"
            ]
          },
          "metadata": {},
          "execution_count": 65
        }
      ]
    },
    {
      "cell_type": "code",
      "metadata": {
        "colab": {
          "base_uri": "https://localhost:8080/",
          "height": 204
        },
        "id": "WOsEvt1miBEp",
        "outputId": "8c4cebee-357d-4d54-b366-97b30a3875a7"
      },
      "source": [
        "sub_df.head()"
      ],
      "execution_count": 66,
      "outputs": [
        {
          "output_type": "execute_result",
          "data": {
            "text/html": [
              "<div>\n",
              "<style scoped>\n",
              "    .dataframe tbody tr th:only-of-type {\n",
              "        vertical-align: middle;\n",
              "    }\n",
              "\n",
              "    .dataframe tbody tr th {\n",
              "        vertical-align: top;\n",
              "    }\n",
              "\n",
              "    .dataframe thead th {\n",
              "        text-align: right;\n",
              "    }\n",
              "</style>\n",
              "<table border=\"1\" class=\"dataframe\">\n",
              "  <thead>\n",
              "    <tr style=\"text-align: right;\">\n",
              "      <th></th>\n",
              "      <th>region_area_</th>\n",
              "      <th>Potability</th>\n",
              "    </tr>\n",
              "  </thead>\n",
              "  <tbody>\n",
              "    <tr>\n",
              "      <th>0</th>\n",
              "      <td>region_area_0</td>\n",
              "      <td>1</td>\n",
              "    </tr>\n",
              "    <tr>\n",
              "      <th>1</th>\n",
              "      <td>region_area_10</td>\n",
              "      <td>1</td>\n",
              "    </tr>\n",
              "    <tr>\n",
              "      <th>2</th>\n",
              "      <td>region_area_1006</td>\n",
              "      <td>1</td>\n",
              "    </tr>\n",
              "    <tr>\n",
              "      <th>3</th>\n",
              "      <td>region_area_1010</td>\n",
              "      <td>1</td>\n",
              "    </tr>\n",
              "    <tr>\n",
              "      <th>4</th>\n",
              "      <td>region_area_1011</td>\n",
              "      <td>1</td>\n",
              "    </tr>\n",
              "  </tbody>\n",
              "</table>\n",
              "</div>"
            ],
            "text/plain": [
              "       region_area_  Potability\n",
              "0     region_area_0           1\n",
              "1    region_area_10           1\n",
              "2  region_area_1006           1\n",
              "3  region_area_1010           1\n",
              "4  region_area_1011           1"
            ]
          },
          "metadata": {},
          "execution_count": 66
        }
      ]
    },
    {
      "cell_type": "code",
      "metadata": {
        "id": "U-BEg0ghccEl"
      },
      "source": [
        "# #check distribution of customer in each country across location_type and bank_account columns\n",
        "# pd.crosstab(train_df.REGION,train_df.CHURN)"
      ],
      "execution_count": 67,
      "outputs": []
    },
    {
      "cell_type": "markdown",
      "metadata": {
        "id": "GZX7q4AUdDJ6"
      },
      "source": [
        "Variable Descriptions\n",
        "\n",
        "- pH value: PH is an important parameter in evaluating the acid–base balance of water. It is also the indicator of acidic or alkaline condition of water status. WHO has recommended a maximum permissible limit of pH from 6.5 to 8.5. The current investigation ranges were 6.52–6.83 which are in the range of WHO standards.\n",
        "- Hardness: Hardness is mainly caused by calcium and magnesium salts. These salts are dissolved from geologic deposits through which water travels. The length of time water is in contact with hardness producing material helps determine how much hardness there is in raw water. Hardness was originally defined as the capacity of water to precipitate soap caused by Calcium and Magnesium.\n",
        "- Solids (Total dissolved solids - TDS): Water has the ability to dissolve a wide range of inorganic and some organic minerals or salts such as potassium, calcium, sodium, bicarbonates, chlorides, magnesium, sulfates etc. These minerals produced an unwanted taste and diluted color in the appearance of water. This is the important parameter for the use of water. The water with high TDS value indicates that water is highly mineralized. The desired limit for TDS is 500 mg/l and maximum limit is 1000 mg/l which is prescribed for drinking purposes.\n",
        "- Chloramines: Chlorine and chloramine are the major disinfectants used in public water systems. Chloramines are most commonly formed when ammonia is added to chlorine to treat drinking water. Chlorine levels up to 4 milligrams per liter (mg/L or 4 parts per million (ppm)) are considered safe in drinking water.\n",
        "- Sulfate: Sulfates are naturally occurring substances that are found in minerals, soil, and rocks. They are present in ambient air, groundwater, plants, and food. The principal commercial use of sulfate is in the chemical industry. Sulfate concentration in seawater is about 2,700 milligrams per liter (mg/L). It ranges from 3 to 30 mg/L in most freshwater supplies, although much higher concentrations (1000 mg/L) are found in some geographic locations.\n",
        "- Conductivity: Pure water is not a good conductor of electric current rather it's a good insulator. Increase in ions concentration enhances the electrical conductivity of water. Generally, the amount of dissolved solids in water determines the electrical conductivity. Electrical conductivity (EC) actually measures the ionic process of a solution that enables it to transmit current. According to WHO standards, EC value should not exceed 400 μS/cm.\n",
        "- Organic_carbon: Total Organic Carbon (TOC) in source waters comes from decaying natural organic matter (NOM) as well as synthetic sources. TOC is a measure of the total amount of carbon in organic compounds in pure water. According to the US EPA < 2 mg/L as TOC in treated / drinking water, and < 4 mg/Lit in source water which is used for treatment.\n",
        "- Trihalomethanes: THMs are chemicals which may be found in water treated with chlorine. The concentration of THMs in drinking water varies according to the level of organic material in the water, the amount of chlorine required to treat the water, and the temperature of the water that is being treated. THM levels up to 80 ppm is considered safe in drinking water.\n",
        "- Turbidity: The turbidity of water depends on the quantity of solid matter present in the suspended state. It is a measure of light emitting properties of water and the test is used to indicate the quality of waste discharge with respect to colloidal matter. The mean turbidity value obtained for Wondo Genet Campus (0.98 NTU) is lower than the WHO recommended value of 5.00 NTU.\n",
        "- Potability: Indicates if water is safe for human consumption where 1 means Potable and 0 means Not potable."
      ]
    },
    {
      "cell_type": "markdown",
      "metadata": {
        "id": "gEghjHd1eKqf"
      },
      "source": [
        "### MY GBM BASELINES "
      ]
    },
    {
      "cell_type": "markdown",
      "metadata": {
        "id": "qvCoG2UX_zyA"
      },
      "source": [
        "- XGBOOST"
      ]
    },
    {
      "cell_type": "code",
      "metadata": {
        "id": "fgl7_H_LdWdF"
      },
      "source": [
        "# # Baseline\n",
        "# \"\"\"XGBOOST on GPU\"\"\"\n",
        "# from sklearn.model_selection import KFold\n",
        "# import xgboost as xgb\n",
        "# # from sklearn.metrics import mean_squared_error\n",
        "\n",
        "# X = train_df.drop(columns=['region_area_','Potability']) #config_.preprocess.to_drop+config_.preprocess.target)\n",
        "# y = train_df['Potability'] #[config_.preprocess.target[0]].astype(int)\n",
        "\n",
        "# test_new = test_df.drop(columns=['region_area_']) #config_.preprocess.to_drop)\n",
        "# test_fields = test_df['region_area_'] #[config_.preprocess.to_drop[0]]  #field\n",
        "\n",
        "# kf = KFold(n_splits = 5,shuffle=True,random_state=2021)\n",
        "# feats = pd.DataFrame({'features': X.columns}) \n",
        "# xgb_predictions = []\n",
        "# cv_score_ = 0\n",
        "# oof_preds = np.zeros((X.shape[0],))\n",
        "\n",
        "\n",
        "# for i,(tr_index,test_index) in enumerate(kf.split(X,y)):\n",
        "#     #   print()\n",
        "#     print(f'######### FOLD {i+1} / {kf.n_splits} ')\n",
        "  \n",
        "#     X_train,y_train = X.iloc[tr_index,:],y[tr_index]\n",
        "#     X_test,y_test = X.iloc[test_index,:],y[test_index]\n",
        "#       # merror or mlogloss\n",
        "#     gbm = xgb.XGBClassifier(eval_metric = 'logloss',\n",
        "#                             # objective='multi:softprob',#tree_method='gpu_hist',\n",
        "#                               grow_policy='lossguide', \n",
        "#                               # gpu_id=0, \n",
        "#                             n_estimators = 300, scale_pos_weight=30,\n",
        "#                               learning_rate = 0.03, random_state = 2021, colsample_bytree=1 ,reg_alpha=1, reg_lambda=1)\n",
        "\n",
        "#     gbm.fit(X_train,y_train,eval_set = [(X_test, y_test)],early_stopping_rounds  = 50, verbose=200)\n",
        "\n",
        "#     cv_score_ += f1_score(y_test, gbm.predict(X_test)) / kf.n_splits\n",
        "#     oof_preds[test_index] = gbm.predict_proba(X_test)[:,1]\n",
        "\n",
        "#     preds = gbm.predict_proba(test_new[X_train.columns] , gbm.best_iteration)[:,1]\n",
        "#     xgb_predictions.append(preds)\n",
        "\n",
        "#     feats[f'Fold {i}'] = gbm.feature_importances_\n",
        "\n",
        "# feats['Importances'] = feats.mean(axis=1)\n",
        "# print( ' CV F1_SCORE : ',cv_score_)\n",
        "# # preds_xgb = np.average(gbm_predictions, axis=0)\n",
        "# # print(preds_xgb.shape"
      ],
      "execution_count": 68,
      "outputs": []
    },
    {
      "cell_type": "code",
      "metadata": {
        "id": "LRqFC1-2eF53"
      },
      "source": [
        "# xgbpreds_mean = np.mean(xgb_predictions, axis=0)# mean of all the predictions\n",
        "# final = [] #list to store the final results \n",
        "# for x in xgbpreds_mean:\n",
        "#     if x >= 0.51:\n",
        "#         final.append(1)\n",
        "#     else:\n",
        "#         final.append(0)\n",
        "# submit = test_df.copy() #Copy the submission file to the variable submit \n",
        "# submit['Potability'] = final\n",
        "# submit[['region_area_','Potability']].to_csv('000xgbbaseline.csv',index=False) #creating and naming the file ready for submission"
      ],
      "execution_count": 69,
      "outputs": []
    },
    {
      "cell_type": "code",
      "metadata": {
        "id": "zXhZm_epl34I"
      },
      "source": [
        "# submit[['region_area_','Potability']].head()"
      ],
      "execution_count": 70,
      "outputs": []
    },
    {
      "cell_type": "code",
      "metadata": {
        "id": "CU8K3fy4eGkV"
      },
      "source": [
        "# seed = 2021 # seed\n",
        "# skf = StratifiedKFold(n_splits=5, shuffle=True, random_state=seed) # for cross validation\n",
        "# sklearnscores = []\n",
        "# # torchscores = []\n",
        "# catpreds= []\n",
        "\n",
        "\n",
        "# np.random.seed(2021)\n",
        "# seeds = np.random.randint(low=1, high=3000, size=5)\n",
        "\n",
        "# X = train_df.drop(columns=['region_area_','Potability']) #config_.preprocess.to_drop+config_.preprocess.target)\n",
        "# y = train_df['Potability'] #[config_.preprocess.target[0]].astype(int)\n",
        "\n",
        "# test_new = test_df.drop(columns=['region_area_']) #config_.preprocess.to_drop)\n",
        "# test_fields = test_df['region_area_'] #[config_.preprocess.to_drop[0]]  #field\n",
        "\n",
        "# #creating a for loop for the stratified k fold\n",
        "# i = 0\n",
        "# for train, test in skf.split(X, y):\n",
        "#     x_train, x_test, y_train, y_test = X.iloc[train], X.iloc[test], y.iloc[train], y.iloc[test]# spliting the data\n",
        "\n",
        "\n",
        "#     estimator = cb.CatBoostClassifier(iterations=10000,                     #has_time=True ,bootstrap_type='No',random_strength=0,\n",
        "#                                    learning_rate=0.08,\n",
        "#                                   #  objective='MultiClass',\n",
        "#                                   use_best_model=True,\n",
        "#                                    reg_lambda=1,\n",
        "#                                    random_seed=seed,         #depth=3,border_count=32, l2_leaf_reg=3,\n",
        "#                                   #  task_type='GPU',\n",
        "#                                   #  loss_function='MultiClass',\n",
        "#                                   early_stopping_rounds=50)\n",
        "\n",
        "#     # estimator = CatBoostClassifier(**params)\n",
        "#     # parameters for the algorithm this was done by manual tuning\n",
        "\n",
        "#     estimator.fit( x_train, y_train, eval_set = (x_test,y_test),verbose=100 ,early_stopping_rounds=50)# fitting on train data\n",
        "    \n",
        "#     print('Number of splits trained {} '.format(i+1))\n",
        "#     score1 =  f1_score(y_test, gbm.predict(x_test))  # checking the cross_entropy loss\n",
        "\n",
        "#     # score2 = torchLoss(estimator.predict_proba(x_test) , y_test)\n",
        "#     # cm = ConfusionMatrix(actual_vector=np.array(y_test), predict_vector=estimator.predict(x_test))\n",
        "#     # plt.show(cm.print_matrix())\n",
        "#     print('f1_score score: {}'.format(score1))\n",
        "\n",
        "#     catpred = estimator.predict_proba(test_new)[:,1] # making prediction probabities\n",
        "#     sklearnscores.append(score1)\n",
        "#     # torchscores.append(score2)\n",
        "\n",
        "#     catpreds.append(catpred)\n",
        "#     i += 1\n",
        "# print('mean f1_scores: {} '.format(np.mean(sklearnscores)))"
      ],
      "execution_count": 71,
      "outputs": []
    },
    {
      "cell_type": "code",
      "metadata": {
        "id": "Zrc5qcjpg8OB"
      },
      "source": [
        "# catpreds_mean = np.mean(catpreds, axis=0)# mean of all the predictions\n",
        "# final = [] #list to store the final results \n",
        "# for x in catpreds_mean:\n",
        "#     if x >= 0.51:\n",
        "#         final.append(1)\n",
        "#     else:\n",
        "#         final.append(0)\n",
        "# submit = test_df.copy() #Copy the submission file to the variable submit \n",
        "# submit['Potability'] = final\n",
        "# submit[['region_area_','Potability']].to_csv('000catbaseline.csv',index=False) #creating and naming the file ready for submission"
      ],
      "execution_count": 72,
      "outputs": []
    },
    {
      "cell_type": "code",
      "metadata": {
        "id": "mokOz9LpB22-"
      },
      "source": [
        "# submit[['region_area_','Potability']].head()"
      ],
      "execution_count": 73,
      "outputs": []
    },
    {
      "cell_type": "markdown",
      "metadata": {
        "id": "q1km702Lexk2"
      },
      "source": [
        "LGBM"
      ]
    },
    {
      "cell_type": "code",
      "metadata": {
        "id": "nctlU_cteUNd"
      },
      "source": [
        "# since = time.time()\n",
        "# skf = StratifiedKFold(n_splits=config_.defaults.nKfold, shuffle=True, random_state=config_.defaults.seed_value) # for cross validation\n",
        "# sklearnscores = []\n",
        "# lgbmpreds= []\n",
        "\n",
        "# np.random.seed(config_.defaults.seed_value)\n",
        "# seeds = np.random.randint(low=1, high=3000, size=10)\n",
        "\n",
        "# X = train_df.drop(columns=['region_area_','Potability']) #config_.preprocess.to_drop+config_.preprocess.target)\n",
        "# y = train_df['Potability'] #[config_.preprocess.target[0]].astype(int)\n",
        "\n",
        "# test_new = test_df.drop(columns=['region_area_']) #config_.preprocess.to_drop)\n",
        "# test_fields = test_df['region_area_'] #[config_.preprocess.to_drop[0]]  #field\n",
        "\n",
        "# #creating a for loop for the stratified k fold\n",
        "# i = 0\n",
        "# for train, test in skf.split(X, y):\n",
        "#     print(f'########### Fold {i+1} / {skf.n_splits} ')\n",
        "    \n",
        "#     x_train, x_test, y_train, y_test = X.iloc[train], X.iloc[test], y.iloc[train], y.iloc[test]# spliting the data\n",
        "    \n",
        "#     estimator = lgb.LGBMClassifier( boosting_type='gbdt', num_leaves=30,scale_pos_weight=2, num_class =1,\n",
        "#                                max_depth=- 1, learning_rate=0.08, n_estimators=800, subsample_for_bin=300000,\n",
        "#                                deterministic=True,objective='binary', class_weight=None, min_split_gain=0.0,\n",
        "#                                min_child_weight=0.001, min_child_samples=20, subsample=1.0, subsample_freq=0, \n",
        "#                                colsample_bytree=1.0, reg_alpha=1, reg_lambda=1, random_state=seeds[i], n_jobs=- 1,\n",
        "#                                silent=True, device_type='CPU',importance_type='split')\n",
        "\n",
        "# #     estimator = LGBMClassifier(**config_.model,random_state=seeds[i])\n",
        "# # early_stopping_rounds=50, \n",
        "#     estimator.fit( x_train, y_train, eval_set = (x_test,y_test),eval_metric = 'binary_error',  verbose=100, early_stopping_rounds=50 )# fitting on train data\n",
        "\n",
        "#     score1 = f1_score(y_test, estimator.predict(x_test)) # checking the cross_entropy loss\n",
        "#     print('f1 score: {}'.format(score1))\n",
        "\n",
        "#     pred = estimator.predict_proba(test_new)[:,1] # making prediction probabities\n",
        "#     sklearnscores.append(score1)\n",
        "\n",
        "#     lgbmpreds.append(pred)\n",
        "#     i += 1\n",
        "\n",
        "# print('mean f1_scores from sklearn: {}'.format(np.mean(sklearnscores)))\n",
        "\n",
        "# time_elapsed = time.time() - since\n",
        "# print(f'Pre-process the data: {time_elapsed // 60} m {time_elapsed % 60} s')"
      ],
      "execution_count": 74,
      "outputs": []
    },
    {
      "cell_type": "code",
      "metadata": {
        "id": "4A9gD4OogxEb"
      },
      "source": [
        "# lgbmpreds_mean = np.mean(lgbmpreds, axis=0)# mean of all the predictions\n",
        "# final = [] #list to store the final results \n",
        "# for x in lgbmpreds_mean:\n",
        "#     if x >= 0.51:\n",
        "#         final.append(1)\n",
        "#     else:\n",
        "#         final.append(0)\n",
        "# submit = test_df.copy() #Copy the submission file to the variable submit \n",
        "# submit['Potability'] = final\n",
        "# submit[['region_area_','Potability']].to_csv('000lgbmbaseline.csv',index=False) #creating and naming the file ready for submission"
      ],
      "execution_count": 75,
      "outputs": []
    },
    {
      "cell_type": "markdown",
      "metadata": {
        "id": "Fj9OZvR_e-qA"
      },
      "source": [
        "### XVII BASELINE"
      ]
    },
    {
      "cell_type": "code",
      "metadata": {
        "id": "LPvnV0_Se9Hy"
      },
      "source": [
        "# #Here the cross validation by using the StratifiedKfold used to split the data into train,test and validation and repeatedly and Using the LGBMClassifier as Algorithm for building the model \n",
        "# skf =StratifiedKFold(n_splits=10, shuffle=True,random_state=2021) # for cross validation by StratifiedKfold\n",
        "# scores = [] #list to store the sores obtained in training the model \n",
        "# preds= [] #list to store the predictions \n",
        "\n",
        "# X = train_df.drop(columns=['region_area_','Potability']) #config_.preprocess.to_drop+config_.preprocess.target)\n",
        "# y = train_df['Potability'] #[config_.preprocess.target[0]].astype(int)\n",
        "\n",
        "# test_new = test_df.drop(columns=['region_area_']) #config_.preprocess.to_drop)\n",
        "# test_fields = test_df['region_area_'] #[config_.preprocess.to_drop[0]]  #field\n",
        "\n",
        "# #creating a for loop for the stratified k fold to perform the cross validation \n",
        "# i = 1\n",
        "# for train, test in skf.split(X, y):\n",
        "#     x_train, x_test= X.iloc[train], X.iloc[test] #spliting the data for x \n",
        "#     y_train, y_test = y.iloc[train],y.iloc[test] #spliting the data for y \n",
        "#     model = lgb.LGBMClassifier(learning_rate=0.08, n_estimators = 96,cat_smooth=10,metrics='binary_error',\n",
        "#                                scale_pos_weight= 3.6,max_depth=16, seed =2021,\n",
        "#                                num_leaves=49,reg_lambda=0.3) #Creating the model and tuning it with the different parameter \n",
        "#     model.fit(x_train, y_train)# fitting  the model on train data\n",
        "#     print(i,'Split Trained') #print the splits that trained \n",
        "#     score = f1_score(y_test,model.predict(x_test)) # checking the accuracy of the model \n",
        "#     pred = model.predict_proba(test_new)[:,1] # making prediction\n",
        "#     scores.append(score)\n",
        "#     preds.append(pred)\n",
        "#     i += 1\n",
        "# print('Total Mean Score Obtained :',np.mean(scores))\n",
        "\n",
        "# preds_mean = np.mean(preds, axis=0)# mean of all the predictions\n",
        "# final = [] #list to store the final results \n",
        "# for x in preds_mean:\n",
        "#     if x >= 0.51:\n",
        "#         final.append(1)\n",
        "#     else:\n",
        "#         final.append(0)\n",
        "\n",
        "# submit = test_df.copy() #Copy the submission file to the variable submit \n",
        "# submit['Potability'] = final\n",
        "# submit[['region_area_','Potability']].to_csv('000xviibaseline.csv',index=False) #creating and naming the file ready for submission"
      ],
      "execution_count": 76,
      "outputs": []
    },
    {
      "cell_type": "code",
      "metadata": {
        "id": "Z9sZ19sV5lmW"
      },
      "source": [
        "# 0.5389573339467848 # LB: 0.56"
      ],
      "execution_count": 77,
      "outputs": []
    },
    {
      "cell_type": "markdown",
      "metadata": {
        "id": "SP-ZnsD44V1Q"
      },
      "source": [
        "# OPTUNA TRIAL"
      ]
    },
    {
      "cell_type": "code",
      "metadata": {
        "id": "wSG-Al7Tw1kT"
      },
      "source": [
        "# # create trial function\n",
        "# OPTUNA_OPTIMIZATION = True\n",
        "\n",
        "# def objective(trial):\n",
        "#     X_train, X_test, y_train, y_test = train_test_split(X, y, test_size=0.2, shuffle=True, random_state=1)\n",
        "    \n",
        "# #  boosting_type='gbdt', =30,scale_pos_weight=1,  =9,\n",
        "# #    max_depth=-1, learning_rate=0.08, n_estimators=2000, subsample_for_bin=300000,\n",
        "# #   deterministic=True,objective='logloss', class_weight=None, min_split_gain=0.0,\n",
        "# #   min_child_weight=0.001, min_child_samples=20, =0.80, subsample_freq=20, \n",
        "# #   colsample_bytree=0.30, reg_alpha=1, reg_lambda=1, random_state=seeds[i], n_jobs=- 1,\n",
        "# #    silent=True, =\n",
        "#     params = {\n",
        "#         'n_estimators':trial.suggest_int(\"n_estimators\", 90, 700),\n",
        "#         # 'objective': trial.suggest_categorical('objective', ['binary','cross_entropy']),\n",
        "#         'importance_type':trial.suggest_categorical('importance_type', ['gain','split']),\n",
        "#         'num_leaves':trial.suggest_int('num_leaves', 10, 100),\n",
        "#         'learning_rate' : trial.suggest_uniform('learning_rate',0.02,1),\n",
        "#         'reg_lambda': trial.suggest_uniform('reg_lambda',1e-5,100),\n",
        "#         'reg_alpha': trial.suggest_uniform('reg_alpha',1e-5,100),\n",
        "#         'colsample_bytree': trial.suggest_uniform('colsample_bytree',0.1,1),\n",
        "#         'scale_pos_weight': trial.suggest_uniform('scale_pos_weight', 3, 20),\n",
        "#         'max_depth': trial.suggest_int('depth',1,15),\n",
        "#         'min_data_in_leaf': trial.suggest_int('min_data_in_leaf',20,300),\n",
        "# #         'bagging_freq': trial.suggest_int('bagging_freq',0,10),\n",
        "#         'subsample': trial.suggest_uniform('subsample', 0.1, 1),\n",
        "#         'bagging_fraction': trial.suggest_uniform('bagging_fraction', 0.1, 1),\n",
        "#         'min_sum_hessian_in_leaf': trial.suggest_uniform('min_sum_hessian_in_leaf', 1e-3, 1),\n",
        "# #         'max_bin': trial.suggest_int('max_bin',100,500),\n",
        "#         'random_state': 2021, \n",
        "#         'num_class':  1, \n",
        "#         # \"device\": \"gpu\",\n",
        "#         # \"gpu_platform_id\": 0,\n",
        "#         # \"gpu_device_id\": 0,\n",
        "# #         'verbose': False,\n",
        "# #         'task_type' : 'GPU',\n",
        "# #         'devices' : '0'\n",
        "#     }\n",
        "    \n",
        "#     # if params['bootstrap_type'] == 'Bayesian':\n",
        "#     #     params['bagging_temperature'] = trial.suggest_float('bagging_temperature', 0, 10)\n",
        "#     # elif params['bootstrap_type'] == 'Bernoulli':\n",
        "#     #     params['subsample'] = trial.suggest_float('subsample', 0.1, 1)\n",
        "    \n",
        "#     model = lgb.LGBMClassifier(**params)\n",
        "#     model.fit(\n",
        "#         X_train, y_train,\n",
        "#         eval_set = (X_test,y_test),\n",
        "#         early_stopping_rounds=200,verbose=200 \n",
        "# #         use_best_model=True\n",
        "#     )\n",
        "\n",
        "#     # # validation AUC prediction\n",
        "#     # y_hat = model.predict_proba(X_test)[:,1]\n",
        "#     # fpr, tpr, _ = roc_curve(y_test, y_hat)\n",
        "#     # score = auc(fpr, tpr)\n",
        "    \n",
        "\n",
        "#     # validation log loss prediction\n",
        "#     # y_hat = model.predict_proba(X_test)\n",
        "#     # score = log_loss(y_test, y_hat)\n",
        "    \n",
        "#     # validation F1 predictions\n",
        "#     y_hat = model.predict(X_test)\n",
        "#     score = f1_score(y_test, y_hat)\n",
        "    \n",
        "#     return score"
      ],
      "execution_count": 78,
      "outputs": []
    },
    {
      "cell_type": "code",
      "metadata": {
        "id": "wYKGSJWEw7oI"
      },
      "source": [
        "# X = train_df.drop(columns=['region_area_','Potability']) #config_.preprocess.to_drop+config_.preprocess.target)\n",
        "# y = train_df['Potability'] #[config_.preprocess.target[0]].astype(int)"
      ],
      "execution_count": 79,
      "outputs": []
    },
    {
      "cell_type": "code",
      "metadata": {
        "id": "obTYz_hMzCuB"
      },
      "source": [
        "# #create optuna study\n",
        "# study = optuna.create_study(\n",
        "#     direction='maximize',\n",
        "#     study_name='LGBMClf'\n",
        "# )\n",
        "\n",
        "# study.optimize(\n",
        "#     objective, \n",
        "#     n_trials=300\n",
        "# )"
      ],
      "execution_count": 80,
      "outputs": []
    },
    {
      "cell_type": "code",
      "metadata": {
        "id": "Jo4IXBeRzKK3"
      },
      "source": [
        "# print(f\"Best Trial: {study.best_trial.value}\")\n",
        "# print(f\"Best Params: {study.best_trial.params}\")"
      ],
      "execution_count": 81,
      "outputs": []
    },
    {
      "cell_type": "code",
      "metadata": {
        "id": "RUDcKMQk0_uu"
      },
      "source": [
        "# H_params = study.best_trial.params"
      ],
      "execution_count": 82,
      "outputs": []
    },
    {
      "cell_type": "code",
      "metadata": {
        "id": "sxJWDDLO1dUq"
      },
      "source": [
        "# H_params = {'n_estimators': 586, 'objective': 'binary', 'importance_type': 'gain', 'num_leaves': 82, 'learning_rate': 0.41490608340120194, 'reg_lambda': 5.708408942536359, 'reg_alpha': 5.517693129732991, 'colsample_bytree': 0.84460849025194, 'scale_pos_weight': 3.6213684221040014, 'max_depth': 14, 'min_data_in_leaf': 56, 'subsample': 0.28937062760787574, 'bagging_fraction': 0.3376651043328511, 'min_sum_hessian_in_leaf': 0.9208910356602873}\n"
      ],
      "execution_count": 83,
      "outputs": []
    },
    {
      "cell_type": "code",
      "metadata": {
        "id": "hvvvahey0MNJ"
      },
      "source": [
        "# #Here the cross validation by using the StratifiedKfold used to split the data into train,test and validation and repeatedly and Using the LGBMClassifier as Algorithm for building the model \n",
        "# skf =StratifiedKFold(n_splits=10, shuffle=True,random_state=2021) # for cross validation by StratifiedKfold\n",
        "# scores = [] #list to store the sores obtained in training the model \n",
        "# preds= [] #list to store the predictions \n",
        "\n",
        "# X = train_df.drop(columns=['region_area_','Potability']) #config_.preprocess.to_drop+config_.preprocess.target)\n",
        "# y = train_df['Potability'] #[config_.preprocess.target[0]].astype(int)\n",
        "\n",
        "# test_new = test_df.drop(columns=['region_area_']) #config_.preprocess.to_drop)\n",
        "# test_fields = test_df['region_area_'] #[config_.preprocess.to_drop[0]]  #field\n",
        "\n",
        "# #creating a for loop for the stratified k fold to perform the cross validation \n",
        "# i = 1\n",
        "# for train, test in skf.split(X, y):\n",
        "#     x_train, x_test= X.iloc[train], X.iloc[test] #spliting the data for x \n",
        "#     y_train, y_test = y.iloc[train],y.iloc[test] #spliting the data for y \n",
        "#     model = lgb.LGBMClassifier(**H_params) #Creating the model and tuning it with the different parameter \n",
        "#     model.fit(x_train, y_train)# fitting  the model on train data\n",
        "#     print(i,'Split Trained') #print the splits that trained \n",
        "#     score = f1_score(y_test,model.predict(x_test)) # checking the accuracy of the model \n",
        "#     pred = model.predict_proba(test_new)[:,1] # making prediction\n",
        "#     scores.append(score)\n",
        "#     preds.append(pred)\n",
        "#     i += 1\n",
        "# print('Total Mean Score Obtained :',np.mean(scores))\n",
        "\n",
        "# preds_mean = np.mean(preds, axis=0)# mean of all the predictions\n",
        "# final = [] #list to store the final results \n",
        "# for x in preds_mean:\n",
        "#     if x >= 0.51:\n",
        "#         final.append(1)\n",
        "#     else:\n",
        "#         final.append(0)\n",
        "\n",
        "# submit = test_df.copy() #Copy the submission file to the variable submit \n",
        "# submit['Potability'] = final\n",
        "# submit[['region_area_','Potability']].to_csv('001xviibaseline.csv',index=False) #creating and naming the file ready for submission"
      ],
      "execution_count": 84,
      "outputs": []
    },
    {
      "cell_type": "code",
      "metadata": {
        "id": "IaXk9_yI1NAc"
      },
      "source": [
        ""
      ],
      "execution_count": 84,
      "outputs": []
    },
    {
      "cell_type": "code",
      "metadata": {
        "id": "5cLBAdLR2MRz"
      },
      "source": [
        "# #Here the cross validation by using the StratifiedKfold used to split the data into train,test and validation and repeatedly and Using the LGBMClassifier as Algorithm for building the model \n",
        "# skf =StratifiedKFold(n_splits=10, shuffle=True,random_state=2021) # for cross validation by StratifiedKfold\n",
        "# scores = [] #list to store the sores obtained in training the model \n",
        "# preds= [] #list to store the predictions \n",
        "\n",
        "# X = train_df.drop(columns=['region_area_','Potability']) #config_.preprocess.to_drop+config_.preprocess.target)\n",
        "# y = train_df['Potability'] #[config_.preprocess.target[0]].astype(int)\n",
        "\n",
        "# test_new = test_df.drop(columns=['region_area_']) #config_.preprocess.to_drop)\n",
        "# test_fields = test_df['region_area_'] #[config_.preprocess.to_drop[0]]  #field\n",
        "\n",
        "# #creating a for loop for the stratified k fold to perform the cross validation \n",
        "# i = 1\n",
        "# for train, test in skf.split(X, y):\n",
        "#     x_train, x_test= X.iloc[train], X.iloc[test] #spliting the data for x \n",
        "#     y_train, y_test = y.iloc[train],y.iloc[test] #spliting the data for y \n",
        "#     model = lgb.LGBMClassifier(learning_rate=0.08, n_estimators = 96,cat_smooth=10,metrics='binary_error',\n",
        "#                                scale_pos_weight= 3.6,max_depth=16, seed =2021,\n",
        "#                                num_leaves=49,reg_lambda=0.3) #Creating the model and tuning it with the different parameter \n",
        "#     model.fit(x_train, y_train)# fitting  the model on train data\n",
        "#     print(i,'Split Trained') #print the splits that trained \n",
        "#     score = f1_score(y_test,model.predict(x_test)) # checking the accuracy of the model \n",
        "#     pred = model.predict_proba(test_new)[:,1] # making prediction\n",
        "#     scores.append(score)\n",
        "#     preds.append(pred)\n",
        "#     i += 1\n",
        "# print('Total Mean Score Obtained :',np.mean(scores))\n",
        "\n",
        "# preds_mean = np.mean(preds, axis=0)*0.5 + preds_mean*0.5# mean of all the predictions\n",
        "# final = [] #list to store the final results \n",
        "# for x in preds_mean:\n",
        "#     if x >= 0.51:\n",
        "#         final.append(1)\n",
        "#     else:\n",
        "#         final.append(0)\n",
        "\n",
        "# submit = test_df.copy() #Copy the submission file to the variable submit \n",
        "# submit['Potability'] = final\n",
        "# submit[['region_area_','Potability']].to_csv('001xviibaseline2.csv',index=False) #creating and naming the file ready for submission"
      ],
      "execution_count": 85,
      "outputs": []
    },
    {
      "cell_type": "code",
      "metadata": {
        "id": "j3yjk3n92kl3"
      },
      "source": [
        ""
      ],
      "execution_count": 85,
      "outputs": []
    },
    {
      "cell_type": "code",
      "metadata": {
        "id": "bWG-Wato26Jv"
      },
      "source": [
        "# # POWER ENSEMBLE\n",
        "\n",
        "# #Here the cross validation by using the StratifiedKfold used to split the data into train,test and validation and repeatedly and Using the LGBMClassifier as Algorithm for building the model \n",
        "# skf =StratifiedKFold(n_splits=10, shuffle=True,random_state=2021) # for cross validation by StratifiedKfold\n",
        "# scores = [] #list to store the sores obtained in training the model \n",
        "# preds2= [] #list to store the predictions \n",
        "\n",
        "# X = train_df.drop(columns=['region_area_','Potability']) #config_.preprocess.to_drop+config_.preprocess.target)\n",
        "# y = train_df['Potability'] #[config_.preprocess.target[0]].astype(int)\n",
        "\n",
        "# test_new = test_df.drop(columns=['region_area_']) #config_.preprocess.to_drop)\n",
        "# test_fields = test_df['region_area_'] #[config_.preprocess.to_drop[0]]  #field\n",
        "\n",
        "# #creating a for loop for the stratified k fold to perform the cross validation \n",
        "# i = 1\n",
        "# for train, test in skf.split(X, y):\n",
        "#     x_train, x_test= X.iloc[train], X.iloc[test] #spliting the data for x \n",
        "#     y_train, y_test = y.iloc[train],y.iloc[test] #spliting the data for y \n",
        "#     model = lgb.LGBMClassifier(learning_rate=0.08, n_estimators = 96,cat_smooth=10,metrics='binary_error',\n",
        "#                                scale_pos_weight= 3.6,max_depth=16, seed =2021,\n",
        "#                                num_leaves=49,reg_lambda=0.3) #Creating the model and tuning it with the different parameter \n",
        "#     model.fit(x_train, y_train)# fitting  the model on train data\n",
        "#     print(i,'Split Trained') #print the splits that trained \n",
        "#     score = f1_score(y_test,model.predict(x_test)) # checking the accuracy of the model \n",
        "#     pred = model.predict_proba(test_new)[:,1] # making prediction\n",
        "#     scores.append(score)\n",
        "#     preds2.append(pred)\n",
        "#     i += 1\n",
        "# print('Total Mean Score Obtained :',np.mean(scores))\n",
        "\n",
        "# preds_mean = (np.mean(preds2, axis=0)**4 + np.mean(preds ,axis=0) **4 )/2 # mean of all the predictions\n",
        "# final = [] #list to store the final results \n",
        "# for x in preds_mean:\n",
        "#     if x >= 0.51:\n",
        "#         final.append(1)\n",
        "#     else:\n",
        "#         final.append(0)\n",
        "\n",
        "# submit = test_df.copy() #Copy the submission file to the variable submit \n",
        "# submit['Potability'] = final\n",
        "# submit[['region_area_','Potability']].to_csv('001xviibaseline3.csv',index=False) #creating and naming the file ready for submission"
      ],
      "execution_count": 86,
      "outputs": []
    },
    {
      "cell_type": "markdown",
      "metadata": {
        "id": "RSREvcnx4atT"
      },
      "source": [
        "## 001 SUBS"
      ]
    },
    {
      "cell_type": "code",
      "metadata": {
        "id": "fBF1XTfD4h7_",
        "colab": {
          "base_uri": "https://localhost:8080/"
        },
        "outputId": "d1ecf78c-343a-41b5-d3cf-fde628e76475"
      },
      "source": [
        "#Here the cross validation by using the StratifiedKfold used to split the data into train,test and validation and repeatedly and Using the LGBMClassifier as Algorithm for building the model \n",
        "skf =StratifiedKFold(n_splits=10, shuffle=True,random_state=2021) # for cross validation by StratifiedKfold\n",
        "scores = [] #list to store the sores obtained in training the model \n",
        "preds= [] #list to store the predictions \n",
        "\n",
        "X = train_df.drop(columns=['region_area_','Potability']) #config_.preprocess.to_drop+config_.preprocess.target)\n",
        "y = train_df['Potability'] #[config_.preprocess.target[0]].astype(int)\n",
        "\n",
        "test_new = test_df.drop(columns=['region_area_']) #config_.preprocess.to_drop)\n",
        "test_fields = test_df['region_area_'] #[config_.preprocess.to_drop[0]]  #field\n",
        "\n",
        "#creating a for loop for the stratified k fold to perform the cross validation \n",
        "i = 1\n",
        "for train, test in skf.split(X, y):\n",
        "    x_train, x_test= X.iloc[train], X.iloc[test] #spliting the data for x \n",
        "    y_train, y_test = y.iloc[train],y.iloc[test] #spliting the data for y \n",
        "    model = lgb.LGBMClassifier(learning_rate=0.08, n_estimators = 96,cat_smooth=10,metrics='binary_error',\n",
        "                               scale_pos_weight= 10.6 ,max_depth=16, seed =2021,\n",
        "                               num_leaves=49,reg_lambda=0.3) #Creating the model and tuning it with the different parameter \n",
        "    model.fit(x_train, y_train)# fitting  the model on train data\n",
        "    print(i,'Split Trained') #print the splits that trained \n",
        "    score = f1_score(y_test,model.predict(x_test)) # checking the accuracy of the model \n",
        "    pred = model.predict_proba(test_new)[:,1] # making prediction\n",
        "    scores.append(score)\n",
        "    preds.append(pred)\n",
        "    i += 1\n",
        "print('Total Mean Score Obtained :',np.mean(scores))\n",
        "\n",
        "preds_mean = np.mean(preds, axis=0) # mean of all the predictions\n",
        "final = [] #list to store the final results \n",
        "for x in preds_mean:\n",
        "    if x >= 0.51:\n",
        "        final.append(1)\n",
        "    else:\n",
        "        final.append(0)\n",
        "\n",
        "submit = test_df.copy() #Copy the submission file to the variable submit \n",
        "submit['Potability'] = final\n",
        "submit[['region_area_','Potability']].to_csv('001xviibaseline4.csv',index=False) #creating and naming the file ready for submission"
      ],
      "execution_count": 87,
      "outputs": [
        {
          "output_type": "stream",
          "name": "stdout",
          "text": [
            "1 Split Trained\n",
            "2 Split Trained\n",
            "3 Split Trained\n",
            "4 Split Trained\n",
            "5 Split Trained\n",
            "6 Split Trained\n",
            "7 Split Trained\n",
            "8 Split Trained\n",
            "9 Split Trained\n",
            "10 Split Trained\n",
            "Total Mean Score Obtained : 0.5808120490570688\n"
          ]
        }
      ]
    },
    {
      "cell_type": "code",
      "metadata": {
        "id": "z9ChcO5T4oRY"
      },
      "source": [
        "# #Here the cross validation by using the StratifiedKfold used to split the data into train,test and validation and repeatedly and Using the LGBMClassifier as Algorithm for building the model \n",
        "# skf =StratifiedKFold(n_splits=10, shuffle=True,random_state=2021) # for cross validation by StratifiedKfold\n",
        "# scores = [] #list to store the sores obtained in training the model \n",
        "# preds= [] #list to store the predictions \n",
        "\n",
        "# X = train_df.drop(columns=['region_area_','Potability']) #config_.preprocess.to_drop+config_.preprocess.target)\n",
        "# y = train_df['Potability'] #[config_.preprocess.target[0]].astype(int)\n",
        "\n",
        "# test_new = test_df.drop(columns=['region_area_']) #config_.preprocess.to_drop)\n",
        "# test_fields = test_df['region_area_'] #[config_.preprocess.to_drop[0]]  #field\n",
        "\n",
        "# #creating a for loop for the stratified k fold to perform the cross validation \n",
        "# i = 1\n",
        "# for train, test in skf.split(X, y):\n",
        "#     x_train, x_test= X.iloc[train], X.iloc[test] #spliting the data for x \n",
        "#     y_train, y_test = y.iloc[train],y.iloc[test] #spliting the data for y \n",
        "#     model = lgb.LGBMClassifier(learning_rate=0.08, n_estimators = 96,cat_smooth=10,metrics='binary_error',\n",
        "#                                scale_pos_weight= 10.6 ,max_depth=16, seed =2021,\n",
        "#                                num_leaves=21,reg_lambda=0.3,) #Creating the model and tuning it with the different parameter \n",
        "#     model.fit(x_train, y_train)# fitting  the model on train data\n",
        "#     print(i,'Split Trained') #print the splits that trained \n",
        "#     score = f1_score(y_test,model.predict(x_test)) # checking the accuracy of the model \n",
        "#     pred = model.predict_proba(test_new)[:,1] # making prediction\n",
        "#     scores.append(score)\n",
        "#     preds.append(pred)\n",
        "#     i += 1\n",
        "# print('Total Mean Score Obtained :',np.mean(scores))\n",
        "\n",
        "# preds_mean = np.mean(preds, axis=0) # mean of all the predictions\n",
        "# final = [] #list to store the final results \n",
        "# for x in preds_mean:\n",
        "#     if x >= 0.51:\n",
        "#         final.append(1)\n",
        "#     else:\n",
        "#         final.append(0)\n",
        "\n",
        "# submit = test_df.copy() #Copy the submission file to the variable submit \n",
        "# submit['Potability'] = final\n",
        "# submit[['region_area_','Potability']].to_csv('001xviibaseline5.csv',index=False) #creating and naming the file ready for submission"
      ],
      "execution_count": 88,
      "outputs": []
    },
    {
      "cell_type": "code",
      "metadata": {
        "id": "3bBt20kM53p5"
      },
      "source": [
        "# #Here the cross validation by using the StratifiedKfold used to split the data into train,test and validation and repeatedly and Using the LGBMClassifier as Algorithm for building the model \n",
        "# skf =StratifiedKFold(n_splits=10, shuffle=True,random_state=2021) # for cross validation by StratifiedKfold\n",
        "# scores = [] #list to store the sores obtained in training the model \n",
        "# preds= [] #list to store the predictions \n",
        "\n",
        "# X = train_df.drop(columns=['region_area_','Potability']) #config_.preprocess.to_drop+config_.preprocess.target)\n",
        "# y = train_df['Potability'] #[config_.preprocess.target[0]].astype(int)\n",
        "\n",
        "# test_new = test_df.drop(columns=['region_area_']) #config_.preprocess.to_drop)\n",
        "# test_fields = test_df['region_area_'] #[config_.preprocess.to_drop[0]]  #field\n",
        "\n",
        "# #creating a for loop for the stratified k fold to perform the cross validation \n",
        "# i = 1\n",
        "# for train, test in skf.split(X, y):\n",
        "#     x_train, x_test= X.iloc[train], X.iloc[test] #spliting the data for x \n",
        "#     y_train, y_test = y.iloc[train],y.iloc[test] #spliting the data for y \n",
        "#     model = lgb.LGBMClassifier(learning_rate=0.08, n_estimators = 96,cat_smooth=10,metrics='binary_error',\n",
        "#                                scale_pos_weight= 11.6 ,max_depth=16, seed =2021,\n",
        "#                                num_leaves=21,reg_lambda=0.3,) #Creating the model and tuning it with the different parameter \n",
        "#     model.fit(x_train, y_train)# fitting  the model on train data\n",
        "#     print(i,'Split Trained') #print the splits that trained \n",
        "#     score = f1_score(y_test,model.predict(x_test)) # checking the accuracy of the model \n",
        "#     pred = model.predict_proba(test_new)[:,1] # making prediction\n",
        "#     scores.append(score)\n",
        "#     preds.append(pred)\n",
        "#     i += 1\n",
        "# print('Total Mean Score Obtained :',np.mean(scores))\n",
        "\n",
        "# preds_mean = np.mean(preds, axis=0) # mean of all the predictions\n",
        "# final = [] #list to store the final results \n",
        "# for x in preds_mean:\n",
        "#     if x >= 0.51:\n",
        "#         final.append(1)\n",
        "#     else:\n",
        "#         final.append(0)\n",
        "\n",
        "# submit = test_df.copy() #Copy the submission file to the variable submit \n",
        "# submit['Potability'] = final\n",
        "# submit[['region_area_','Potability']].to_csv('001xviibaseline6.csv',index=False) #creating and naming the file ready for submission"
      ],
      "execution_count": 89,
      "outputs": []
    },
    {
      "cell_type": "code",
      "metadata": {
        "id": "PwdFLcI4CAEV"
      },
      "source": [
        "# def CAT_CreatoR()"
      ],
      "execution_count": 90,
      "outputs": []
    },
    {
      "cell_type": "markdown",
      "metadata": {
        "id": "3Vy8ixlIA0KA"
      },
      "source": [
        "# 002 SUBS"
      ]
    },
    {
      "cell_type": "code",
      "metadata": {
        "id": "croAXxpJ7BaR"
      },
      "source": [
        "# #Here the cross validation by using the StratifiedKfold used to split the data into train,test and validation and repeatedly and Using the LGBMClassifier as Algorithm for building the model \n",
        "# skf =StratifiedKFold(n_splits=10, shuffle=True,random_state=2021) # for cross validation by StratifiedKfold\n",
        "# scores = [] #list to store the sores obtained in training the model \n",
        "# preds= [] #list to store the predictions \n",
        "\n",
        "# X = train_df.drop(columns=['region_area_','Potability']).fillna(0) #config_.preprocess.to_drop+config_.preprocess.target)\n",
        "# y = train_df['Potability'] #[config_.preprocess.target[0]].astype(int)\n",
        "\n",
        "# test_new = test_df.drop(columns=['region_area_']).fillna(0) #config_.preprocess.to_drop)\n",
        "# test_fields = test_df['region_area_'] #[config_.preprocess.to_drop[0]]  #field\n",
        "\n",
        "# #creating a for loop for the stratified k fold to perform the cross validation \n",
        "# i = 1\n",
        "# for train, test in skf.split(X, y):\n",
        "#     x_train, x_test= X.iloc[train], X.iloc[test] #spliting the data for x \n",
        "#     y_train, y_test = y.iloc[train],y.iloc[test] #spliting the data for y \n",
        "#     model = RandomForestClassifier( n_estimators=40 ,random_state= 2021)\n",
        "#     #lgb.LGBMClassifier(learning_rate=0.08, n_estimators = 96,cat_smooth=10,metrics='binary_error',\n",
        "#     #                            scale_pos_weight= 10.6 ,max_depth=16, seed =2021,\n",
        "#     #                            num_leaves=21,reg_lambda=0.3,) #Creating the model and tuning it with the different parameter \n",
        "#     model.fit(x_train, y_train)# fitting  the model on train data\n",
        "#     print(i,'Split Trained') #print the splits that trained \n",
        "#     score = f1_score(y_test,model.predict(x_test)) # checking the accuracy of the model \n",
        "#     pred = model.predict_proba(test_new)[:,1] # making prediction\n",
        "#     scores.append(score)\n",
        "#     preds.append(pred)\n",
        "#     i += 1\n",
        "# print('Total Mean Score Obtained :',np.mean(scores))\n",
        "\n",
        "# preds_mean = np.mean(preds, axis=0) # mean of all the predictions\n",
        "# final = [] #list to store the final results \n",
        "# for x in preds_mean:\n",
        "#     if x >= 0.51:\n",
        "#         final.append(1)\n",
        "#     else:\n",
        "#         final.append(0)\n",
        "\n",
        "# submit = test_df.copy() #Copy the submission file to the variable submit \n",
        "# submit['Potability'] = final\n",
        "# submit[['region_area_','Potability']].to_csv('002xviibaseline1.csv',index=False) #creating and naming the file ready for submission"
      ],
      "execution_count": 91,
      "outputs": []
    },
    {
      "cell_type": "code",
      "metadata": {
        "id": "MJ2ArICADsP3",
        "colab": {
          "base_uri": "https://localhost:8080/"
        },
        "outputId": "72281252-bd85-4373-cbe2-5ba4cce10f51"
      },
      "source": [
        "0.407525100049175"
      ],
      "execution_count": 92,
      "outputs": [
        {
          "output_type": "execute_result",
          "data": {
            "text/plain": [
              "0.407525100049175"
            ]
          },
          "metadata": {},
          "execution_count": 92
        }
      ]
    },
    {
      "cell_type": "code",
      "metadata": {
        "colab": {
          "base_uri": "https://localhost:8080/",
          "height": 224
        },
        "id": "2jI8Dqw3PDhU",
        "outputId": "535c8259-e917-4b2b-d50b-9e45c13c5f8c"
      },
      "source": [
        "train_df.head()"
      ],
      "execution_count": 93,
      "outputs": [
        {
          "output_type": "execute_result",
          "data": {
            "text/html": [
              "<div>\n",
              "<style scoped>\n",
              "    .dataframe tbody tr th:only-of-type {\n",
              "        vertical-align: middle;\n",
              "    }\n",
              "\n",
              "    .dataframe tbody tr th {\n",
              "        vertical-align: top;\n",
              "    }\n",
              "\n",
              "    .dataframe thead th {\n",
              "        text-align: right;\n",
              "    }\n",
              "</style>\n",
              "<table border=\"1\" class=\"dataframe\">\n",
              "  <thead>\n",
              "    <tr style=\"text-align: right;\">\n",
              "      <th></th>\n",
              "      <th>region_area_</th>\n",
              "      <th>ph</th>\n",
              "      <th>Hardness</th>\n",
              "      <th>Solids</th>\n",
              "      <th>Chloramines</th>\n",
              "      <th>Sulfate</th>\n",
              "      <th>Conductivity</th>\n",
              "      <th>Organic_carbon</th>\n",
              "      <th>Trihalomethanes</th>\n",
              "      <th>Turbidity</th>\n",
              "      <th>Potability</th>\n",
              "    </tr>\n",
              "  </thead>\n",
              "  <tbody>\n",
              "    <tr>\n",
              "      <th>0</th>\n",
              "      <td>region_area_1</td>\n",
              "      <td>3.716080</td>\n",
              "      <td>180.196811</td>\n",
              "      <td>18630.362669</td>\n",
              "      <td>6.330435</td>\n",
              "      <td>NaN</td>\n",
              "      <td>602.990359</td>\n",
              "      <td>15.285013</td>\n",
              "      <td>56.444076</td>\n",
              "      <td>4.500656</td>\n",
              "      <td>0</td>\n",
              "    </tr>\n",
              "    <tr>\n",
              "      <th>1</th>\n",
              "      <td>region_area_100</td>\n",
              "      <td>4.270716</td>\n",
              "      <td>217.611599</td>\n",
              "      <td>24405.555346</td>\n",
              "      <td>7.086700</td>\n",
              "      <td>297.951852</td>\n",
              "      <td>359.623910</td>\n",
              "      <td>13.583526</td>\n",
              "      <td>54.589840</td>\n",
              "      <td>3.763906</td>\n",
              "      <td>0</td>\n",
              "    </tr>\n",
              "    <tr>\n",
              "      <th>2</th>\n",
              "      <td>region_area_1000</td>\n",
              "      <td>6.648849</td>\n",
              "      <td>232.462013</td>\n",
              "      <td>30733.808648</td>\n",
              "      <td>5.656462</td>\n",
              "      <td>344.670335</td>\n",
              "      <td>267.809179</td>\n",
              "      <td>17.863444</td>\n",
              "      <td>35.411181</td>\n",
              "      <td>4.827527</td>\n",
              "      <td>0</td>\n",
              "    </tr>\n",
              "    <tr>\n",
              "      <th>3</th>\n",
              "      <td>region_area_1001</td>\n",
              "      <td>NaN</td>\n",
              "      <td>261.753637</td>\n",
              "      <td>21174.713291</td>\n",
              "      <td>7.314074</td>\n",
              "      <td>NaN</td>\n",
              "      <td>582.848407</td>\n",
              "      <td>15.215849</td>\n",
              "      <td>90.367455</td>\n",
              "      <td>4.217553</td>\n",
              "      <td>0</td>\n",
              "    </tr>\n",
              "    <tr>\n",
              "      <th>4</th>\n",
              "      <td>region_area_1002</td>\n",
              "      <td>9.323584</td>\n",
              "      <td>263.484560</td>\n",
              "      <td>15751.480111</td>\n",
              "      <td>5.196259</td>\n",
              "      <td>297.593625</td>\n",
              "      <td>409.878704</td>\n",
              "      <td>10.727265</td>\n",
              "      <td>74.669285</td>\n",
              "      <td>3.006650</td>\n",
              "      <td>0</td>\n",
              "    </tr>\n",
              "  </tbody>\n",
              "</table>\n",
              "</div>"
            ],
            "text/plain": [
              "       region_area_        ph  ...  Turbidity  Potability\n",
              "0     region_area_1  3.716080  ...   4.500656           0\n",
              "1   region_area_100  4.270716  ...   3.763906           0\n",
              "2  region_area_1000  6.648849  ...   4.827527           0\n",
              "3  region_area_1001       NaN  ...   4.217553           0\n",
              "4  region_area_1002  9.323584  ...   3.006650           0\n",
              "\n",
              "[5 rows x 11 columns]"
            ]
          },
          "metadata": {},
          "execution_count": 93
        }
      ]
    },
    {
      "cell_type": "code",
      "metadata": {
        "id": "Z23iZ5kLRjlh"
      },
      "source": [
        "from sklearn.preprocessing import FunctionTransformer"
      ],
      "execution_count": 94,
      "outputs": []
    },
    {
      "cell_type": "code",
      "metadata": {
        "id": "jLXhQMgkMctf"
      },
      "source": [
        ""
      ],
      "execution_count": 94,
      "outputs": []
    },
    {
      "cell_type": "code",
      "metadata": {
        "id": "g0l4mrg5Y1bg"
      },
      "source": [
        "def ph_scaler(df):\n",
        "  # PH condition  6.52–6.83\n",
        "  conditions5 = [\n",
        "      (df['ph'] < 6.52),\n",
        "      (df['ph'] >= 6.52) & (df['ph'] <= 6.83),\n",
        "      (df['ph'] > 8.5)  \n",
        "      ]\n",
        "  values5 = ['-1','0','1']\n",
        "  \n",
        "  conditions2 = [\n",
        "      (df['ph'] < 7),\n",
        "      (df['ph'] == 7),\n",
        "      (df['ph'] > 7)  \n",
        "      ]\n",
        "  values2 = ['acidic','neutral','basic']\n",
        "\n",
        "  df['SW_range'] = np.select(conditions5, values5)\n",
        "  df['alkalinity_range'] = np.select(conditions2, values2)\n",
        "\n",
        "def func(fn):\n",
        "  d_ = fn\n",
        "  return d_\n",
        "\n",
        "func(ph_scaler(train_df))"
      ],
      "execution_count": 95,
      "outputs": []
    },
    {
      "cell_type": "code",
      "metadata": {
        "colab": {
          "base_uri": "https://localhost:8080/",
          "height": 224
        },
        "id": "Ol0ud-0rlZws",
        "outputId": "d9f06072-b2db-45f7-88e8-6cf4d673b5e4"
      },
      "source": [
        "train_df.head()"
      ],
      "execution_count": 96,
      "outputs": [
        {
          "output_type": "execute_result",
          "data": {
            "text/html": [
              "<div>\n",
              "<style scoped>\n",
              "    .dataframe tbody tr th:only-of-type {\n",
              "        vertical-align: middle;\n",
              "    }\n",
              "\n",
              "    .dataframe tbody tr th {\n",
              "        vertical-align: top;\n",
              "    }\n",
              "\n",
              "    .dataframe thead th {\n",
              "        text-align: right;\n",
              "    }\n",
              "</style>\n",
              "<table border=\"1\" class=\"dataframe\">\n",
              "  <thead>\n",
              "    <tr style=\"text-align: right;\">\n",
              "      <th></th>\n",
              "      <th>region_area_</th>\n",
              "      <th>ph</th>\n",
              "      <th>Hardness</th>\n",
              "      <th>Solids</th>\n",
              "      <th>Chloramines</th>\n",
              "      <th>Sulfate</th>\n",
              "      <th>Conductivity</th>\n",
              "      <th>Organic_carbon</th>\n",
              "      <th>Trihalomethanes</th>\n",
              "      <th>Turbidity</th>\n",
              "      <th>Potability</th>\n",
              "      <th>SW_range</th>\n",
              "      <th>alkalinity_range</th>\n",
              "    </tr>\n",
              "  </thead>\n",
              "  <tbody>\n",
              "    <tr>\n",
              "      <th>0</th>\n",
              "      <td>region_area_1</td>\n",
              "      <td>3.716080</td>\n",
              "      <td>180.196811</td>\n",
              "      <td>18630.362669</td>\n",
              "      <td>6.330435</td>\n",
              "      <td>NaN</td>\n",
              "      <td>602.990359</td>\n",
              "      <td>15.285013</td>\n",
              "      <td>56.444076</td>\n",
              "      <td>4.500656</td>\n",
              "      <td>0</td>\n",
              "      <td>-1</td>\n",
              "      <td>acidic</td>\n",
              "    </tr>\n",
              "    <tr>\n",
              "      <th>1</th>\n",
              "      <td>region_area_100</td>\n",
              "      <td>4.270716</td>\n",
              "      <td>217.611599</td>\n",
              "      <td>24405.555346</td>\n",
              "      <td>7.086700</td>\n",
              "      <td>297.951852</td>\n",
              "      <td>359.623910</td>\n",
              "      <td>13.583526</td>\n",
              "      <td>54.589840</td>\n",
              "      <td>3.763906</td>\n",
              "      <td>0</td>\n",
              "      <td>-1</td>\n",
              "      <td>acidic</td>\n",
              "    </tr>\n",
              "    <tr>\n",
              "      <th>2</th>\n",
              "      <td>region_area_1000</td>\n",
              "      <td>6.648849</td>\n",
              "      <td>232.462013</td>\n",
              "      <td>30733.808648</td>\n",
              "      <td>5.656462</td>\n",
              "      <td>344.670335</td>\n",
              "      <td>267.809179</td>\n",
              "      <td>17.863444</td>\n",
              "      <td>35.411181</td>\n",
              "      <td>4.827527</td>\n",
              "      <td>0</td>\n",
              "      <td>0</td>\n",
              "      <td>acidic</td>\n",
              "    </tr>\n",
              "    <tr>\n",
              "      <th>3</th>\n",
              "      <td>region_area_1001</td>\n",
              "      <td>NaN</td>\n",
              "      <td>261.753637</td>\n",
              "      <td>21174.713291</td>\n",
              "      <td>7.314074</td>\n",
              "      <td>NaN</td>\n",
              "      <td>582.848407</td>\n",
              "      <td>15.215849</td>\n",
              "      <td>90.367455</td>\n",
              "      <td>4.217553</td>\n",
              "      <td>0</td>\n",
              "      <td>0</td>\n",
              "      <td>0</td>\n",
              "    </tr>\n",
              "    <tr>\n",
              "      <th>4</th>\n",
              "      <td>region_area_1002</td>\n",
              "      <td>9.323584</td>\n",
              "      <td>263.484560</td>\n",
              "      <td>15751.480111</td>\n",
              "      <td>5.196259</td>\n",
              "      <td>297.593625</td>\n",
              "      <td>409.878704</td>\n",
              "      <td>10.727265</td>\n",
              "      <td>74.669285</td>\n",
              "      <td>3.006650</td>\n",
              "      <td>0</td>\n",
              "      <td>1</td>\n",
              "      <td>basic</td>\n",
              "    </tr>\n",
              "  </tbody>\n",
              "</table>\n",
              "</div>"
            ],
            "text/plain": [
              "       region_area_        ph    Hardness  ...  Potability  SW_range  alkalinity_range\n",
              "0     region_area_1  3.716080  180.196811  ...           0        -1            acidic\n",
              "1   region_area_100  4.270716  217.611599  ...           0        -1            acidic\n",
              "2  region_area_1000  6.648849  232.462013  ...           0         0            acidic\n",
              "3  region_area_1001       NaN  261.753637  ...           0         0                 0\n",
              "4  region_area_1002  9.323584  263.484560  ...           0         1             basic\n",
              "\n",
              "[5 rows x 13 columns]"
            ]
          },
          "metadata": {},
          "execution_count": 96
        }
      ]
    },
    {
      "cell_type": "code",
      "metadata": {
        "id": "BKDGs-HxrTHg"
      },
      "source": [
        "func(ph_scaler(test_df))"
      ],
      "execution_count": 97,
      "outputs": []
    },
    {
      "cell_type": "code",
      "metadata": {
        "id": "8gLhkrhlrbwO"
      },
      "source": [
        "train_df[['SW_range', 'alkalinity_range']] = train_df[['SW_range', 'alkalinity_range']].astype('category')\n",
        "test_df[['SW_range', 'alkalinity_range']] = test_df[['SW_range', 'alkalinity_range']].astype('category')"
      ],
      "execution_count": 98,
      "outputs": []
    },
    {
      "cell_type": "code",
      "metadata": {
        "colab": {
          "base_uri": "https://localhost:8080/"
        },
        "id": "yhpdBwtxRYOC",
        "outputId": "b3cb03b5-b747-4409-e244-19915d9e07e0"
      },
      "source": [
        "#Here the cross validation by using the StratifiedKfold used to split the data into train,test and validation and repeatedly and Using the LGBMClassifier as Algorithm for building the model \n",
        "skf =StratifiedKFold(n_splits=10, shuffle=True,random_state=2021) # for cross validation by StratifiedKfold\n",
        "scores = [] #list to store the sores obtained in training the model \n",
        "preds= [] #list to store the predictions \n",
        "\n",
        "X = train_df.drop(columns=['region_area_','Potability']) #config_.preprocess.to_drop+config_.preprocess.target)\n",
        "y = train_df['Potability'] #[config_.preprocess.target[0]].astype(int)\n",
        "\n",
        "test_new = test_df.drop(columns=['region_area_']) #config_.preprocess.to_drop)\n",
        "test_fields = test_df['region_area_'] #[config_.preprocess.to_drop[0]]  #field\n",
        "\n",
        "#creating a for loop for the stratified k fold to perform the cross validation \n",
        "i = 1\n",
        "for train, test in skf.split(X, y):\n",
        "    x_train, x_test= X.iloc[train], X.iloc[test] #spliting the data for x \n",
        "    y_train, y_test = y.iloc[train],y.iloc[test] #spliting the data for y \n",
        "    model = lgb.LGBMClassifier(learning_rate=0.08, n_estimators = 96,cat_smooth=10,metrics='binary_error',\n",
        "                               scale_pos_weight= 10.6 ,max_depth=16, seed =2021,\n",
        "                               num_leaves=22,reg_lambda=0.3,) #Creating the model and tuning it with the different parameter \n",
        "    model.fit(x_train, y_train)# fitting  the model on train data\n",
        "    print(i,'Split Trained') #print the splits that trained \n",
        "    score = f1_score(y_test,model.predict(x_test)) # checking the accuracy of the model \n",
        "    pred = model.predict_proba(test_new)[:,1] # making prediction\n",
        "    scores.append(score)\n",
        "    preds.append(pred)\n",
        "    i += 1\n",
        "print('Total Mean Score Obtained :',np.mean(scores))\n",
        "\n",
        "preds_mean = np.mean(preds, axis=0) # mean of all the predictions\n",
        "final = [] #list to store the final results \n",
        "for x in preds_mean:\n",
        "    if x >= 0.51:\n",
        "        final.append(1)\n",
        "    else:\n",
        "        final.append(0)\n",
        "\n",
        "submit = test_df.copy() #Copy the submission file to the variable submit \n",
        "submit['Potability'] = final\n",
        "submit[['region_area_','Potability']].to_csv('002xviibaseline2.csv',index=False) #creating and naming the file ready for submission"
      ],
      "execution_count": 116,
      "outputs": [
        {
          "output_type": "stream",
          "name": "stdout",
          "text": [
            "1 Split Trained\n",
            "2 Split Trained\n",
            "3 Split Trained\n",
            "4 Split Trained\n",
            "5 Split Trained\n",
            "6 Split Trained\n",
            "7 Split Trained\n",
            "8 Split Trained\n",
            "9 Split Trained\n",
            "10 Split Trained\n",
            "Total Mean Score Obtained : 0.5786560519655769\n"
          ]
        }
      ]
    },
    {
      "cell_type": "code",
      "metadata": {
        "id": "rc3i2RsJRcb_",
        "colab": {
          "base_uri": "https://localhost:8080/"
        },
        "outputId": "30340bad-bcd7-4b00-ca2c-0e45e08a899f"
      },
      "source": [
        "#Here the cross validation by using the StratifiedKfold used to split the data into train,test and validation and repeatedly and Using the LGBMClassifier as Algorithm for building the model \n",
        "skf =StratifiedKFold(n_splits=10, shuffle=True,random_state=2021) # for cross validation by StratifiedKfold\n",
        "scores = [] #list to store the sores obtained in training the model \n",
        "preds= [] #list to store the predictions \n",
        "\n",
        "X = train_df.drop(columns=['region_area_','Potability']) #config_.preprocess.to_drop+config_.preprocess.target)\n",
        "y = train_df['Potability'] #[config_.preprocess.target[0]].astype(int)\n",
        "\n",
        "test_new = test_df.drop(columns=['region_area_']) #config_.preprocess.to_drop)\n",
        "test_fields = test_df['region_area_'] #[config_.preprocess.to_drop[0]]  #field\n",
        "\n",
        "#creating a for loop for the stratified k fold to perform the cross validation \n",
        "i = 1\n",
        "for train, test in skf.split(X, y):\n",
        "    x_train, x_test= X.iloc[train], X.iloc[test] #spliting the data for x \n",
        "    y_train, y_test = y.iloc[train],y.iloc[test] #spliting the data for y \n",
        "    model = lgb.LGBMClassifier(learning_rate=0.08, n_estimators = 96,cat_smooth=10,metrics='binary_error',\n",
        "                               scale_pos_weight= 10.6 ,max_depth=16, seed =2021,\n",
        "                               num_leaves=49,reg_lambda=0.3) #Creating the model and tuning it with the different parameter \n",
        "    model.fit(x_train, y_train)# fitting  the model on train data\n",
        "    print(i,'Split Trained') #print the splits that trained \n",
        "    score = f1_score(y_test,model.predict(x_test)) # checking the accuracy of the model \n",
        "    pred = model.predict_proba(test_new)[:,1] # making prediction\n",
        "    scores.append(score)\n",
        "    preds.append(pred)\n",
        "    i += 1\n",
        "print('Total Mean Score Obtained :',np.mean(scores))\n",
        "\n",
        "preds_mean = np.mean(preds, axis=0) # mean of all the predictions\n",
        "final = [] #list to store the final results \n",
        "for x in preds_mean:\n",
        "    if x >= 0.51:\n",
        "        final.append(1)\n",
        "    else:\n",
        "        final.append(0)\n",
        "\n",
        "submit = test_df.copy() #Copy the submission file to the variable submit \n",
        "submit['Potability'] = final\n",
        "submit[['region_area_','Potability']].to_csv('001xviibaseline4.csv',index=False) #creating and naming the file ready for submission"
      ],
      "execution_count": 117,
      "outputs": [
        {
          "output_type": "stream",
          "name": "stdout",
          "text": [
            "1 Split Trained\n",
            "2 Split Trained\n",
            "3 Split Trained\n",
            "4 Split Trained\n",
            "5 Split Trained\n",
            "6 Split Trained\n",
            "7 Split Trained\n",
            "8 Split Trained\n",
            "9 Split Trained\n",
            "10 Split Trained\n",
            "Total Mean Score Obtained : 0.573395874329094\n"
          ]
        }
      ]
    },
    {
      "cell_type": "code",
      "metadata": {
        "colab": {
          "base_uri": "https://localhost:8080/"
        },
        "id": "EKA37ffYtc1t",
        "outputId": "3a3bed6d-2cfa-4404-a38f-b4fec33b68e7"
      },
      "source": [
        "model.feature_name_"
      ],
      "execution_count": 118,
      "outputs": [
        {
          "output_type": "execute_result",
          "data": {
            "text/plain": [
              "['ph',\n",
              " 'Hardness',\n",
              " 'Solids',\n",
              " 'Chloramines',\n",
              " 'Sulfate',\n",
              " 'Conductivity',\n",
              " 'Organic_carbon',\n",
              " 'Trihalomethanes',\n",
              " 'Turbidity',\n",
              " 'SW_range',\n",
              " 'alkalinity_range']"
            ]
          },
          "metadata": {},
          "execution_count": 118
        }
      ]
    },
    {
      "cell_type": "code",
      "metadata": {
        "colab": {
          "base_uri": "https://localhost:8080/"
        },
        "id": "9_Toh_fIsQwc",
        "outputId": "a898f0f9-92cf-43c7-f6f9-742d582f545f"
      },
      "source": [
        "model.feature_importances_"
      ],
      "execution_count": 119,
      "outputs": [
        {
          "output_type": "execute_result",
          "data": {
            "text/plain": [
              "array([582, 532, 563, 480, 620, 404, 407, 442, 416,  17,   3], dtype=int32)"
            ]
          },
          "metadata": {},
          "execution_count": 119
        }
      ]
    },
    {
      "cell_type": "code",
      "metadata": {
        "id": "L4HWgNyDtXvH"
      },
      "source": [
        ""
      ],
      "execution_count": null,
      "outputs": []
    }
  ]
}
