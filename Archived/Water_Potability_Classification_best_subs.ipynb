{
  "nbformat": 4,
  "nbformat_minor": 0,
  "metadata": {
    "colab": {
      "name": "Water Potability Classification FINAL.ipynb",
      "provenance": [],
      "collapsed_sections": [
        "nTtqH6pv7gOf",
        "ZduW6yuY8rJn",
        "A_7EFYqSMo0X"
      ],
      "mount_file_id": "1tTkHIffN-TLPgIWI32IGzLsiBNAdICcV",
      "authorship_tag": "ABX9TyM0MBDKGPH/CkKm+vxvwxpU",
      "include_colab_link": true
    },
    "kernelspec": {
      "name": "python3",
      "display_name": "Python 3"
    },
    "language_info": {
      "name": "python"
    }
  },
  "cells": [
    {
      "cell_type": "markdown",
      "metadata": {
        "id": "view-in-github",
        "colab_type": "text"
      },
      "source": [
        "<a href=\"https://colab.research.google.com/github/Troublem1/Portable_Water_Classification/blob/main/Water_Potability_Classification_FINAL.ipynb\" target=\"_parent\"><img src=\"https://colab.research.google.com/assets/colab-badge.svg\" alt=\"Open In Colab\"/></a>"
      ]
    },
    {
      "cell_type": "code",
      "metadata": {
        "id": "WBnkaTRRYMV9",
        "colab": {
          "base_uri": "https://localhost:8080/"
        },
        "outputId": "bfeda59e-0400-4fd1-f3b4-ba040662c995"
      },
      "source": [
        "!pip install -q -r /content/drive/MyDrive/workSpace/Potable_Water/configs/PW_requirements.txt"
      ],
      "execution_count": 2,
      "outputs": [
        {
          "output_type": "stream",
          "name": "stdout",
          "text": [
            "\u001b[K     |████████████████████████████████| 74 kB 2.1 MB/s \n",
            "\u001b[K     |████████████████████████████████| 64.4 MB 10 kB/s \n",
            "\u001b[K     |████████████████████████████████| 61 kB 559 kB/s \n",
            "\u001b[K     |████████████████████████████████| 1.8 MB 74.4 MB/s \n",
            "\u001b[K     |████████████████████████████████| 5.8 MB 19.3 MB/s \n",
            "\u001b[K     |████████████████████████████████| 72 kB 1.1 MB/s \n",
            "\u001b[K     |████████████████████████████████| 22.3 MB 1.3 MB/s \n",
            "\u001b[K     |████████████████████████████████| 112 kB 73.5 MB/s \n",
            "\u001b[K     |████████████████████████████████| 636 kB 59.3 MB/s \n",
            "\u001b[K     |████████████████████████████████| 574 kB 59.1 MB/s \n",
            "\u001b[K     |████████████████████████████████| 9.5 MB 17.1 MB/s \n",
            "\u001b[?25h  Building wheel for zindi (setup.py) ... \u001b[?25l\u001b[?25hdone\n",
            "  Building wheel for antlr4-python3-runtime (setup.py) ... \u001b[?25l\u001b[?25hdone\n"
          ]
        }
      ]
    },
    {
      "cell_type": "code",
      "metadata": {
        "id": "9kljeXvdYMvA"
      },
      "source": [
        "from omegaconf import OmegaConf\n",
        "# from zindi.user import Zindian\n",
        "import numpy as np\n",
        "import pandas as pd\n",
        "import os\n",
        "from tqdm.notebook import tqdm\n",
        "import shutil\n",
        "\n",
        "import catboost as cb\n",
        "import xgboost as xgb\n",
        "import lightgbm as lgb\n",
        "from sklearn.model_selection import StratifiedKFold\n",
        "# import optuna\n",
        "from sklearn.model_selection import train_test_split\n",
        "from sklearn.metrics import auc,roc_auc_score, log_loss, f1_score\n",
        "from sklearn import preprocessing\n",
        "import seaborn as sns\n",
        "import joblib\n",
        "import matplotlib.pyplot as plt\n",
        "from google.colab import files\n",
        "import time\n",
        "# import tensorflow as tf"
      ],
      "execution_count": 3,
      "outputs": []
    },
    {
      "cell_type": "code",
      "metadata": {
        "id": "KtQwqd5TYNAE"
      },
      "source": [
        "os.makedirs('/content/drive/MyDrive/workSpace/Potable_Water/configs/' , exist_ok=True )"
      ],
      "execution_count": 4,
      "outputs": []
    },
    {
      "cell_type": "code",
      "metadata": {
        "id": "J6TgK3EFYNTl"
      },
      "source": [
        "params = {'defaults':{'seed_value':2021, 'nKfold':10},\n",
        "'dir': {'model_name':'003',\n",
        "        'data_path':'/content/drive/MyDrive/workSpace/Potable_Water/data/',\n",
        "        'train_file':'/content/drive/MyDrive/workSpace/Potable_Water/data/Train.csv' ,\n",
        "        'test_file':'/content/drive/MyDrive/workSpace/Potable_Water/data/Test.csv' ,\n",
        "        'submit_file':'/content/drive/MyDrive/workSpace/Potable_Water/data/SampleSubmission.csv',\n",
        "        'model_path':'/content/drive/MyDrive/workSpace/Potable_Water/models/',\n",
        "        'checkpoints_path':'/content/drive/MyDrive/workSpace/Potable_Water/checkpoints/',\n",
        "        'predictions_path':'/content/drive/MyDrive/workSpace/Potable_Water/submissions/'},\n",
        "\n",
        "'preprocessing':{'to_drop':['region_area_'],\n",
        "               'feature_cols':['ph', 'Hardness', 'Solids', 'Chloramines', 'Sulfate', 'Conductivity',\n",
        "                               'Organic_carbon', 'Trihalomethanes', 'Turbidity'],\n",
        "               'category_cols':['SW_range', 'alkalinity_range'],\n",
        "               'target_col':'Potability'},  \n",
        "   #sub1          \n",
        "  'model1':{'learning_rate':0.08, 'n_estimators':96,'cat_smooth':10,'metrics':'binary_error',   'scale_pos_weight': 10.6 ,'max_depth':16, 'seed':2021,\n",
        "                               'num_leaves':49,'reg_lambda':0.3},\n",
        "   #pseudo label mdoel       \n",
        "  'model2':{'learning_rate':0.08, 'n_estimators':96,'cat_smooth':10,'metrics':'binary_error', 'scale_pos_weight': 10.6 ,'max_depth':16, 'seed':2021,\n",
        "                                'num_leaves':49,'reg_lambda':0.3, 'reg_alpha':0.3},\n",
        "          \n",
        "  #engineered category feaures model\n",
        "  'model3': {'learning_rate':0.08, 'n_estimators':96,'cat_smooth':10,'metrics':'binary_error', 'scale_pos_weight': 10.6 ,'max_depth':16, 'seed':2021,\n",
        "                               'num_leaves':22,'reg_lambda':0.3}\n",
        "           }\n",
        "\n",
        "if '003PW.yaml' not in os.listdir('/content/drive/MyDrive/workSpace/Potable_Water/configs/'):\n",
        "  config_ = OmegaConf.load('/content/drive/MyDrive/workSpace/Potable_Water/configs/003PW.yaml')\n",
        "else:\n",
        "  OmegaConf.save(config=params, f='/content/drive/MyDrive/workSpace/Potable_Water/configs/003PW.yaml')\n",
        "  config_ = OmegaConf.load('/content/drive/MyDrive/workSpace/Potable_Water/configs/003PW.yaml')\n"
      ],
      "execution_count": 39,
      "outputs": []
    },
    {
      "cell_type": "code",
      "metadata": {
        "colab": {
          "base_uri": "https://localhost:8080/",
          "height": 35
        },
        "id": "8eNdUev0As_U",
        "outputId": "c86da690-2075-49cb-aa47-38cec73880f9"
      },
      "source": [
        "\"try using these features in another competition\"\n",
        "#  neg_bagging_fraction=0.8,pos_bagging_fraction=0.7,"
      ],
      "execution_count": 8,
      "outputs": [
        {
          "output_type": "execute_result",
          "data": {
            "application/vnd.google.colaboratory.intrinsic+json": {
              "type": "string"
            },
            "text/plain": [
              "'try using these features in another competition'"
            ]
          },
          "metadata": {},
          "execution_count": 8
        }
      ]
    },
    {
      "cell_type": "code",
      "metadata": {
        "colab": {
          "base_uri": "https://localhost:8080/"
        },
        "id": "Hzc8_UzFbTbx",
        "outputId": "145ba2b1-53d1-4a60-baf6-74000a2e5235"
      },
      "source": [
        "print(OmegaConf.to_yaml(config_.dir))"
      ],
      "execution_count": 9,
      "outputs": [
        {
          "output_type": "stream",
          "name": "stdout",
          "text": [
            "model_name: '003'\n",
            "data_path: /content/drive/MyDrive/workSpace/Potable_Water/data/\n",
            "train_file: /content/drive/MyDrive/workSpace/Potable_Water/data/Train.csv\n",
            "test_file: /content/drive/MyDrive/workSpace/Potable_Water/data/Test.csv\n",
            "submit_file: /content/drive/MyDrive/workSpace/Potable_Water/data/SampleSubmission.csv\n",
            "model_path: /content/drive/MyDrive/workSpace/Potable_Water/models/\n",
            "checkpoints_path: /content/drive/MyDrive/workSpace/Potable_Water/checkpoints/\n",
            "predictions_path: /content/drive/MyDrive/workSpace/Potable_Water/submissions/\n",
            "\n"
          ]
        }
      ]
    },
    {
      "cell_type": "code",
      "metadata": {
        "id": "J7uLzHNWbTXv"
      },
      "source": [
        "os.makedirs(config_.dir.model_path , exist_ok=True )\n",
        "os.makedirs(config_.dir.predictions_path, exist_ok=True)"
      ],
      "execution_count": 10,
      "outputs": []
    },
    {
      "cell_type": "code",
      "metadata": {
        "id": "mszIbQArbX04"
      },
      "source": [
        "# # create a user object\n",
        "# my_username = \"ZzyZx\"\n",
        "# user = Zindian(username = my_username)\n",
        "\n",
        "# # Select a Zindi challenge\n",
        "# user.select_a_challenge()  #current index 5\n",
        "# user.which_challenge\n",
        "\n",
        "# # Download the dataset of the selected challenge for the sfc select 2\n",
        "# user.download_dataset(destination=config_.dir.data_path)"
      ],
      "execution_count": 11,
      "outputs": []
    },
    {
      "cell_type": "code",
      "metadata": {
        "colab": {
          "base_uri": "https://localhost:8080/"
        },
        "id": "fHBWH4pzbXsL",
        "outputId": "255f65af-f645-4339-8f3a-017d0a5e8fbe"
      },
      "source": [
        "print(OmegaConf.to_yaml(config_.defaults))"
      ],
      "execution_count": 12,
      "outputs": [
        {
          "output_type": "stream",
          "name": "stdout",
          "text": [
            "seed_value: 2021\n",
            "nKfold: 10\n",
            "\n"
          ]
        }
      ]
    },
    {
      "cell_type": "code",
      "metadata": {
        "id": "Lxm810t9cPc4"
      },
      "source": [
        "# Setting SEED to Reproduce Same Results even with \"GPU\"\n",
        "import os\n",
        "os.environ['PYTHONHASHSEED'] = str(config_.defaults.seed_value)\n",
        "import random\n",
        "random.seed(config_.defaults.seed_value)\n",
        "import numpy as np\n",
        "np.random.seed(config_.defaults.seed_value)\n"
      ],
      "execution_count": 13,
      "outputs": []
    },
    {
      "cell_type": "code",
      "metadata": {
        "colab": {
          "base_uri": "https://localhost:8080/"
        },
        "id": "jW21CbOzcR98",
        "outputId": "2c1ac2df-b898-43a5-8b8f-23fb655c21fd"
      },
      "source": [
        "print(OmegaConf.to_yaml(config_.dir))"
      ],
      "execution_count": 14,
      "outputs": [
        {
          "output_type": "stream",
          "name": "stdout",
          "text": [
            "model_name: '003'\n",
            "data_path: /content/drive/MyDrive/workSpace/Potable_Water/data/\n",
            "train_file: /content/drive/MyDrive/workSpace/Potable_Water/data/Train.csv\n",
            "test_file: /content/drive/MyDrive/workSpace/Potable_Water/data/Test.csv\n",
            "submit_file: /content/drive/MyDrive/workSpace/Potable_Water/data/SampleSubmission.csv\n",
            "model_path: /content/drive/MyDrive/workSpace/Potable_Water/models/\n",
            "checkpoints_path: /content/drive/MyDrive/workSpace/Potable_Water/checkpoints/\n",
            "predictions_path: /content/drive/MyDrive/workSpace/Potable_Water/submissions/\n",
            "\n"
          ]
        }
      ]
    },
    {
      "cell_type": "code",
      "metadata": {
        "id": "suxmPZdEcVLH"
      },
      "source": [
        "train_df = pd.read_csv(config_.dir.train_file)\n",
        "test_df = pd.read_csv(config_.dir.test_file)\n",
        "sub_df = pd.read_csv(config_.dir.submit_file)"
      ],
      "execution_count": 37,
      "outputs": []
    },
    {
      "cell_type": "code",
      "metadata": {
        "colab": {
          "base_uri": "https://localhost:8080/",
          "height": 224
        },
        "id": "plE5-Jk7cZc7",
        "outputId": "fb8255b6-b288-4414-87da-9f57535dff84"
      },
      "source": [
        "train_df.head()"
      ],
      "execution_count": 16,
      "outputs": [
        {
          "output_type": "execute_result",
          "data": {
            "text/html": [
              "<div>\n",
              "<style scoped>\n",
              "    .dataframe tbody tr th:only-of-type {\n",
              "        vertical-align: middle;\n",
              "    }\n",
              "\n",
              "    .dataframe tbody tr th {\n",
              "        vertical-align: top;\n",
              "    }\n",
              "\n",
              "    .dataframe thead th {\n",
              "        text-align: right;\n",
              "    }\n",
              "</style>\n",
              "<table border=\"1\" class=\"dataframe\">\n",
              "  <thead>\n",
              "    <tr style=\"text-align: right;\">\n",
              "      <th></th>\n",
              "      <th>region_area_</th>\n",
              "      <th>ph</th>\n",
              "      <th>Hardness</th>\n",
              "      <th>Solids</th>\n",
              "      <th>Chloramines</th>\n",
              "      <th>Sulfate</th>\n",
              "      <th>Conductivity</th>\n",
              "      <th>Organic_carbon</th>\n",
              "      <th>Trihalomethanes</th>\n",
              "      <th>Turbidity</th>\n",
              "      <th>Potability</th>\n",
              "    </tr>\n",
              "  </thead>\n",
              "  <tbody>\n",
              "    <tr>\n",
              "      <th>0</th>\n",
              "      <td>region_area_1</td>\n",
              "      <td>3.716080</td>\n",
              "      <td>180.196811</td>\n",
              "      <td>18630.362669</td>\n",
              "      <td>6.330435</td>\n",
              "      <td>NaN</td>\n",
              "      <td>602.990359</td>\n",
              "      <td>15.285013</td>\n",
              "      <td>56.444076</td>\n",
              "      <td>4.500656</td>\n",
              "      <td>0</td>\n",
              "    </tr>\n",
              "    <tr>\n",
              "      <th>1</th>\n",
              "      <td>region_area_100</td>\n",
              "      <td>4.270716</td>\n",
              "      <td>217.611599</td>\n",
              "      <td>24405.555346</td>\n",
              "      <td>7.086700</td>\n",
              "      <td>297.951852</td>\n",
              "      <td>359.623910</td>\n",
              "      <td>13.583526</td>\n",
              "      <td>54.589840</td>\n",
              "      <td>3.763906</td>\n",
              "      <td>0</td>\n",
              "    </tr>\n",
              "    <tr>\n",
              "      <th>2</th>\n",
              "      <td>region_area_1000</td>\n",
              "      <td>6.648849</td>\n",
              "      <td>232.462013</td>\n",
              "      <td>30733.808648</td>\n",
              "      <td>5.656462</td>\n",
              "      <td>344.670335</td>\n",
              "      <td>267.809179</td>\n",
              "      <td>17.863444</td>\n",
              "      <td>35.411181</td>\n",
              "      <td>4.827527</td>\n",
              "      <td>0</td>\n",
              "    </tr>\n",
              "    <tr>\n",
              "      <th>3</th>\n",
              "      <td>region_area_1001</td>\n",
              "      <td>NaN</td>\n",
              "      <td>261.753637</td>\n",
              "      <td>21174.713291</td>\n",
              "      <td>7.314074</td>\n",
              "      <td>NaN</td>\n",
              "      <td>582.848407</td>\n",
              "      <td>15.215849</td>\n",
              "      <td>90.367455</td>\n",
              "      <td>4.217553</td>\n",
              "      <td>0</td>\n",
              "    </tr>\n",
              "    <tr>\n",
              "      <th>4</th>\n",
              "      <td>region_area_1002</td>\n",
              "      <td>9.323584</td>\n",
              "      <td>263.484560</td>\n",
              "      <td>15751.480111</td>\n",
              "      <td>5.196259</td>\n",
              "      <td>297.593625</td>\n",
              "      <td>409.878704</td>\n",
              "      <td>10.727265</td>\n",
              "      <td>74.669285</td>\n",
              "      <td>3.006650</td>\n",
              "      <td>0</td>\n",
              "    </tr>\n",
              "  </tbody>\n",
              "</table>\n",
              "</div>"
            ],
            "text/plain": [
              "       region_area_        ph  ...  Turbidity  Potability\n",
              "0     region_area_1  3.716080  ...   4.500656           0\n",
              "1   region_area_100  4.270716  ...   3.763906           0\n",
              "2  region_area_1000  6.648849  ...   4.827527           0\n",
              "3  region_area_1001       NaN  ...   4.217553           0\n",
              "4  region_area_1002  9.323584  ...   3.006650           0\n",
              "\n",
              "[5 rows x 11 columns]"
            ]
          },
          "metadata": {},
          "execution_count": 16
        }
      ]
    },
    {
      "cell_type": "code",
      "metadata": {
        "colab": {
          "base_uri": "https://localhost:8080/",
          "height": 224
        },
        "id": "jstW_W6uhbDV",
        "outputId": "40dc37a8-fdc4-4f82-cec0-6afbbf305609"
      },
      "source": [
        "test_df.head()"
      ],
      "execution_count": 17,
      "outputs": [
        {
          "output_type": "execute_result",
          "data": {
            "text/html": [
              "<div>\n",
              "<style scoped>\n",
              "    .dataframe tbody tr th:only-of-type {\n",
              "        vertical-align: middle;\n",
              "    }\n",
              "\n",
              "    .dataframe tbody tr th {\n",
              "        vertical-align: top;\n",
              "    }\n",
              "\n",
              "    .dataframe thead th {\n",
              "        text-align: right;\n",
              "    }\n",
              "</style>\n",
              "<table border=\"1\" class=\"dataframe\">\n",
              "  <thead>\n",
              "    <tr style=\"text-align: right;\">\n",
              "      <th></th>\n",
              "      <th>region_area_</th>\n",
              "      <th>ph</th>\n",
              "      <th>Hardness</th>\n",
              "      <th>Solids</th>\n",
              "      <th>Chloramines</th>\n",
              "      <th>Sulfate</th>\n",
              "      <th>Conductivity</th>\n",
              "      <th>Organic_carbon</th>\n",
              "      <th>Trihalomethanes</th>\n",
              "      <th>Turbidity</th>\n",
              "    </tr>\n",
              "  </thead>\n",
              "  <tbody>\n",
              "    <tr>\n",
              "      <th>0</th>\n",
              "      <td>region_area_0</td>\n",
              "      <td>NaN</td>\n",
              "      <td>255.664346</td>\n",
              "      <td>20791.623791</td>\n",
              "      <td>6.995401</td>\n",
              "      <td>369.261555</td>\n",
              "      <td>574.413654</td>\n",
              "      <td>10.484783</td>\n",
              "      <td>87.105970</td>\n",
              "      <td>2.963135</td>\n",
              "    </tr>\n",
              "    <tr>\n",
              "      <th>1</th>\n",
              "      <td>region_area_10</td>\n",
              "      <td>7.360640</td>\n",
              "      <td>216.294688</td>\n",
              "      <td>32452.919220</td>\n",
              "      <td>7.245890</td>\n",
              "      <td>327.369467</td>\n",
              "      <td>435.488419</td>\n",
              "      <td>15.691810</td>\n",
              "      <td>78.855016</td>\n",
              "      <td>3.662292</td>\n",
              "    </tr>\n",
              "    <tr>\n",
              "      <th>2</th>\n",
              "      <td>region_area_1006</td>\n",
              "      <td>7.230845</td>\n",
              "      <td>228.348694</td>\n",
              "      <td>17864.994196</td>\n",
              "      <td>5.513418</td>\n",
              "      <td>344.338446</td>\n",
              "      <td>377.794992</td>\n",
              "      <td>20.017950</td>\n",
              "      <td>59.418053</td>\n",
              "      <td>5.622018</td>\n",
              "    </tr>\n",
              "    <tr>\n",
              "      <th>3</th>\n",
              "      <td>region_area_1010</td>\n",
              "      <td>4.797460</td>\n",
              "      <td>241.089018</td>\n",
              "      <td>21280.551369</td>\n",
              "      <td>5.883692</td>\n",
              "      <td>327.539307</td>\n",
              "      <td>367.541193</td>\n",
              "      <td>11.818821</td>\n",
              "      <td>63.978068</td>\n",
              "      <td>4.038503</td>\n",
              "    </tr>\n",
              "    <tr>\n",
              "      <th>4</th>\n",
              "      <td>region_area_1011</td>\n",
              "      <td>9.319176</td>\n",
              "      <td>250.107456</td>\n",
              "      <td>14294.545161</td>\n",
              "      <td>7.480130</td>\n",
              "      <td>366.796865</td>\n",
              "      <td>348.546450</td>\n",
              "      <td>15.320293</td>\n",
              "      <td>63.506468</td>\n",
              "      <td>4.129230</td>\n",
              "    </tr>\n",
              "  </tbody>\n",
              "</table>\n",
              "</div>"
            ],
            "text/plain": [
              "       region_area_        ph  ...  Trihalomethanes  Turbidity\n",
              "0     region_area_0       NaN  ...        87.105970   2.963135\n",
              "1    region_area_10  7.360640  ...        78.855016   3.662292\n",
              "2  region_area_1006  7.230845  ...        59.418053   5.622018\n",
              "3  region_area_1010  4.797460  ...        63.978068   4.038503\n",
              "4  region_area_1011  9.319176  ...        63.506468   4.129230\n",
              "\n",
              "[5 rows x 10 columns]"
            ]
          },
          "metadata": {},
          "execution_count": 17
        }
      ]
    },
    {
      "cell_type": "code",
      "metadata": {
        "colab": {
          "base_uri": "https://localhost:8080/",
          "height": 204
        },
        "id": "WOsEvt1miBEp",
        "outputId": "79dcae20-7c0c-4abe-bee2-def036f2e763"
      },
      "source": [
        "sub_df.head()"
      ],
      "execution_count": 18,
      "outputs": [
        {
          "output_type": "execute_result",
          "data": {
            "text/html": [
              "<div>\n",
              "<style scoped>\n",
              "    .dataframe tbody tr th:only-of-type {\n",
              "        vertical-align: middle;\n",
              "    }\n",
              "\n",
              "    .dataframe tbody tr th {\n",
              "        vertical-align: top;\n",
              "    }\n",
              "\n",
              "    .dataframe thead th {\n",
              "        text-align: right;\n",
              "    }\n",
              "</style>\n",
              "<table border=\"1\" class=\"dataframe\">\n",
              "  <thead>\n",
              "    <tr style=\"text-align: right;\">\n",
              "      <th></th>\n",
              "      <th>region_area_</th>\n",
              "      <th>Potability</th>\n",
              "    </tr>\n",
              "  </thead>\n",
              "  <tbody>\n",
              "    <tr>\n",
              "      <th>0</th>\n",
              "      <td>region_area_0</td>\n",
              "      <td>1</td>\n",
              "    </tr>\n",
              "    <tr>\n",
              "      <th>1</th>\n",
              "      <td>region_area_10</td>\n",
              "      <td>1</td>\n",
              "    </tr>\n",
              "    <tr>\n",
              "      <th>2</th>\n",
              "      <td>region_area_1006</td>\n",
              "      <td>1</td>\n",
              "    </tr>\n",
              "    <tr>\n",
              "      <th>3</th>\n",
              "      <td>region_area_1010</td>\n",
              "      <td>1</td>\n",
              "    </tr>\n",
              "    <tr>\n",
              "      <th>4</th>\n",
              "      <td>region_area_1011</td>\n",
              "      <td>1</td>\n",
              "    </tr>\n",
              "  </tbody>\n",
              "</table>\n",
              "</div>"
            ],
            "text/plain": [
              "       region_area_  Potability\n",
              "0     region_area_0           1\n",
              "1    region_area_10           1\n",
              "2  region_area_1006           1\n",
              "3  region_area_1010           1\n",
              "4  region_area_1011           1"
            ]
          },
          "metadata": {},
          "execution_count": 18
        }
      ]
    },
    {
      "cell_type": "markdown",
      "metadata": {
        "id": "GZX7q4AUdDJ6"
      },
      "source": [
        "Variable Descriptions\n",
        "\n",
        "- pH value: PH is an important parameter in evaluating the acid–base balance of water. It is also the indicator of acidic or alkaline condition of water status. WHO has recommended a maximum permissible limit of pH from 6.5 to 8.5. The current investigation ranges were 6.52–6.83 which are in the range of WHO standards.\n",
        "- Hardness: Hardness is mainly caused by calcium and magnesium salts. These salts are dissolved from geologic deposits through which water travels. The length of time water is in contact with hardness producing material helps determine how much hardness there is in raw water. Hardness was originally defined as the capacity of water to precipitate soap caused by Calcium and Magnesium.\n",
        "- Solids (Total dissolved solids - TDS): Water has the ability to dissolve a wide range of inorganic and some organic minerals or salts such as potassium, calcium, sodium, bicarbonates, chlorides, magnesium, sulfates etc. These minerals produced an unwanted taste and diluted color in the appearance of water. This is the important parameter for the use of water. The water with high TDS value indicates that water is highly mineralized. The desired limit for TDS is 500 mg/l and maximum limit is 1000 mg/l which is prescribed for drinking purposes.\n",
        "- Chloramines: Chlorine and chloramine are the major disinfectants used in public water systems. Chloramines are most commonly formed when ammonia is added to chlorine to treat drinking water. Chlorine levels up to 4 milligrams per liter (mg/L or 4 parts per million (ppm)) are considered safe in drinking water.\n",
        "- Sulfate: Sulfates are naturally occurring substances that are found in minerals, soil, and rocks. They are present in ambient air, groundwater, plants, and food. The principal commercial use of sulfate is in the chemical industry. Sulfate concentration in seawater is about 2,700 milligrams per liter (mg/L). It ranges from 3 to 30 mg/L in most freshwater supplies, although much higher concentrations (1000 mg/L) are found in some geographic locations.\n",
        "- Conductivity: Pure water is not a good conductor of electric current rather it's a good insulator. Increase in ions concentration enhances the electrical conductivity of water. Generally, the amount of dissolved solids in water determines the electrical conductivity. Electrical conductivity (EC) actually measures the ionic process of a solution that enables it to transmit current. According to WHO standards, EC value should not exceed 400 μS/cm.\n",
        "- Organic_carbon: Total Organic Carbon (TOC) in source waters comes from decaying natural organic matter (NOM) as well as synthetic sources. TOC is a measure of the total amount of carbon in organic compounds in pure water. According to the US EPA < 2 mg/L as TOC in treated / drinking water, and < 4 mg/Lit in source water which is used for treatment.\n",
        "- Trihalomethanes: THMs are chemicals which may be found in water treated with chlorine. The concentration of THMs in drinking water varies according to the level of organic material in the water, the amount of chlorine required to treat the water, and the temperature of the water that is being treated. THM levels up to 80 ppm is considered safe in drinking water.\n",
        "- Turbidity: The turbidity of water depends on the quantity of solid matter present in the suspended state. It is a measure of light emitting properties of water and the test is used to indicate the quality of waste discharge with respect to colloidal matter. The mean turbidity value obtained for Wondo Genet Campus (0.98 NTU) is lower than the WHO recommended value of 5.00 NTU.\n",
        "- Potability: Indicates if water is safe for human consumption where 1 means Potable and 0 means Not potable."
      ]
    },
    {
      "cell_type": "code",
      "metadata": {
        "id": "gD3CbCwYi7nP"
      },
      "source": [
        "def ph_scaler(df):\n",
        "  \"PH condition  6.52–6.83: non portable < portable < toxic\"\n",
        "  conditions5 = [\n",
        "      (df['ph'] < 6.52),\n",
        "      (df['ph'] >= 6.52) & (df['ph'] <= 6.83),\n",
        "      (df['ph'] > 8.5)  \n",
        "      ]\n",
        "  values5 = ['-1','0','1']\n",
        "  \n",
        "  \"ACIDIC < NEURAL < BASIC\"\n",
        "  conditions2 = [\n",
        "      (df['ph'] < 7),\n",
        "      (df['ph'] == 7),\n",
        "      (df['ph'] > 7)  \n",
        "      ]\n",
        "  values2 = ['acidic','neutral','basic']\n",
        "\n",
        "  df['SW_range'] = np.select(conditions5, values5)\n",
        "  df['alkalinity_range'] = np.select(conditions2, values2)\n",
        "\n",
        "def func(fn):\n",
        "  \"takes a func and performs the opration with the function\"\n",
        "  d_ = fn\n",
        "\n",
        "  \"returns preprocessed dataframe\"\n",
        "  return d_\n"
      ],
      "execution_count": 19,
      "outputs": []
    },
    {
      "cell_type": "markdown",
      "metadata": {
        "id": "RSREvcnx4atT"
      },
      "source": [
        "001 SUBS"
      ]
    },
    {
      "cell_type": "markdown",
      "metadata": {
        "id": "BTAZFB7Ug9G3"
      },
      "source": [
        "DATA AND ML APPROACHES ON DIFFERENT SUBMISSIONS"
      ]
    },
    {
      "cell_type": "markdown",
      "metadata": {
        "id": "nTtqH6pv7gOf"
      },
      "source": [
        "### 1st SUBMISSION CV:0.5808 LB 0.59106"
      ]
    },
    {
      "cell_type": "code",
      "metadata": {
        "id": "croAXxpJ7BaR",
        "colab": {
          "base_uri": "https://localhost:8080/"
        },
        "outputId": "0517e029-81f5-4088-8962-c63aa2734487"
      },
      "source": [
        "#Here the cross validation by using the StratifiedKfold used to split the data into train,test and validation and repeatedly and Using the LGBMClassifier as Algorithm for building the model \n",
        "skf =StratifiedKFold(n_splits=10, shuffle=True,random_state=2021) # for cross validation by StratifiedKfold\n",
        "scores = [] #list to store the sores obtained in training the model \n",
        "preds= [] #list to store the predictions \n",
        "\n",
        "X = train_df.drop(columns=['region_area_','Potability']) #config_.preprocess.to_drop+config_.preprocess.target)\n",
        "y = train_df['Potability'] #[config_.preprocess.target[0]].astype(int)\n",
        "\n",
        "test_new = test_df.drop(columns=['region_area_']) #config_.preprocess.to_drop)\n",
        "test_fields = test_df['region_area_'] #[config_.preprocess.to_drop[0]]  #field\n",
        "\n",
        "#creating a for loop for the stratified k fold to perform the cross validation \n",
        "i = 1\n",
        "for train, test in skf.split(X, y):\n",
        "    x_train, x_test= X.iloc[train], X.iloc[test] #spliting the data for x \n",
        "    y_train, y_test = y.iloc[train],y.iloc[test] #spliting the data for y \n",
        "    # model = lgb.LGBMClassifier(learning_rate=0.08, n_estimators = 96,cat_smooth=10,metrics='binary_error',\n",
        "    #                           #  neg_bagging_fraction=0.8,pos_bagging_fraction=0.7,\n",
        "    #                            scale_pos_weight= 10.6 ,max_depth=16, seed =2021,\n",
        "    #                            num_leaves=49,reg_lambda=0.3) #Creating the model and tuning it with the different parameter \n",
        "    model = lgb.LGBMClassifier(**config_.model1)\n",
        "    model.fit(x_train, y_train)# fitting  the model on train data\n",
        "    print(i,'Split Trained') #print the splits that trained \n",
        "    score = f1_score(y_test,model.predict(x_test)) # checking the accuracy of the model \n",
        "    pred = model.predict_proba(test_new)[:,1] # making prediction\n",
        "    scores.append(score)\n",
        "    preds.append(pred)\n",
        "    i += 1\n",
        "print('Total Mean Score Obtained :',np.mean(scores))\n",
        "\n",
        "preds_mean = np.mean(preds, axis=0) # mean of all the predictions\n",
        "final = [] #list to store the final results \n",
        "for x in preds_mean:\n",
        "    if x >= 0.51:\n",
        "        final.append(1)\n",
        "    else:\n",
        "        final.append(0)\n",
        "\n",
        "submit = test_df.copy() #Copy the submission file to the variable submit \n",
        "submit['Potability'] = final\n",
        "submit[['region_area_','Potability']].to_csv('003_1.csv',index=False) #creating and naming the file ready for submission"
      ],
      "execution_count": 40,
      "outputs": [
        {
          "output_type": "stream",
          "name": "stdout",
          "text": [
            "1 Split Trained\n",
            "2 Split Trained\n",
            "3 Split Trained\n",
            "4 Split Trained\n",
            "5 Split Trained\n",
            "6 Split Trained\n",
            "7 Split Trained\n",
            "8 Split Trained\n",
            "9 Split Trained\n",
            "10 Split Trained\n",
            "Total Mean Score Obtained : 0.5808120490570688\n"
          ]
        }
      ]
    },
    {
      "cell_type": "markdown",
      "metadata": {
        "id": "ZduW6yuY8rJn"
      },
      "source": [
        "### 2nd SUBMISSION PSUEDO LABELING CV:0.703 LB: 0.588"
      ]
    },
    {
      "cell_type": "code",
      "metadata": {
        "id": "rGsBJi9r87m9",
        "colab": {
          "base_uri": "https://localhost:8080/"
        },
        "outputId": "3011ab9e-55b5-4016-f318-0c30da0fe42d"
      },
      "source": [
        "#Here the cross validation by using the StratifiedKfold used to split the data into train,test and validation and repeatedly and Using the LGBMClassifier as Algorithm for building the model \n",
        "skf =StratifiedKFold(n_splits=10, shuffle=True,random_state=2021) # for cross validation by StratifiedKfold\n",
        "scores = [] #list to store the sores obtained in training the model \n",
        "preds= [] #list to store the predictions \n",
        "\n",
        "X = train_df.drop(columns=['region_area_','Potability']) #config_.preprocess.to_drop+config_.preprocess.target)\n",
        "y = train_df['Potability'] #[config_.preprocess.target[0]].astype(int)\n",
        "\n",
        "test_new = test_df.drop(columns=['region_area_']) #config_.preprocess.to_drop)\n",
        "test_fields = test_df['region_area_'] #[config_.preprocess.to_drop[0]]  #field\n",
        "\n",
        "#creating a for loop for the stratified k fold to perform the cross validation \n",
        "i = 1\n",
        "for train, test in skf.split(X, y):\n",
        "    x_train, x_test= X.iloc[train], X.iloc[test] #spliting the data for x \n",
        "    y_train, y_test = y.iloc[train],y.iloc[test] #spliting the data for y \n",
        "    # model = lgb.LGBMClassifier(learning_rate=0.08, n_estimators = 96,cat_smooth=10,metrics='binary_error',\n",
        "    #                           #  neg_bagging_fraction=0.8,pos_bagging_fraction=0.7,\n",
        "    #                            scale_pos_weight= 10.6 ,max_depth=16, seed =2021,\n",
        "    #                            num_leaves=49,reg_lambda=0.3) #Creating the model and tuning it with the different parameter \n",
        "    model = lgb.LGBMClassifier(**config_.model1)\n",
        "    model.fit(x_train, y_train)# fitting  the model on train data\n",
        "    print(i,'Split Trained') #print the splits that trained \n",
        "    score = f1_score(y_test,model.predict(x_test)) # checking the accuracy of the model \n",
        "    pred = model.predict_proba(test_new)[:,1] # making prediction\n",
        "    scores.append(score)\n",
        "    preds.append(pred)\n",
        "    i += 1\n",
        "print('Total Mean Score Obtained :',np.mean(scores))\n",
        "\n",
        "preds_mean = np.mean(preds, axis=0) # mean of all the predictions\n",
        "final = [] #list to store the final results \n",
        "for x in preds_mean:\n",
        "    if x >= 0.51:\n",
        "        final.append(1)\n",
        "    else:\n",
        "        final.append(0)\n",
        "\n",
        "# submit = test_df.copy() #Copy the submission file to the variable submit \n",
        "# submit['Potability'] = final\n",
        "# submit[['region_area_','Potability']].to_csv('003xviibaseline4.csv',index=False) #creating and naming the file ready for submission"
      ],
      "execution_count": 41,
      "outputs": [
        {
          "output_type": "stream",
          "name": "stdout",
          "text": [
            "1 Split Trained\n",
            "2 Split Trained\n",
            "3 Split Trained\n",
            "4 Split Trained\n",
            "5 Split Trained\n",
            "6 Split Trained\n",
            "7 Split Trained\n",
            "8 Split Trained\n",
            "9 Split Trained\n",
            "10 Split Trained\n",
            "Total Mean Score Obtained : 0.5808120490570688\n"
          ]
        }
      ]
    },
    {
      "cell_type": "code",
      "metadata": {
        "id": "vTRIL6Xxl4Qt"
      },
      "source": [
        "test_df['Potability'] = final\n",
        "\n",
        "new_train = pd.concat([train_df,test_df]).reset_index(drop=True)"
      ],
      "execution_count": 43,
      "outputs": []
    },
    {
      "cell_type": "code",
      "metadata": {
        "colab": {
          "base_uri": "https://localhost:8080/"
        },
        "id": "fEPD5xexkqMf",
        "outputId": "6dd57c94-f6aa-4652-f3f0-4d3e5973143b"
      },
      "source": [
        "#Here the cross validation by using the StratifiedKfold used to split the data into train,test and validation and repeatedly and Using the LGBMClassifier as Algorithm for building the model \n",
        "skf =StratifiedKFold(n_splits=10, shuffle=True,random_state=2021) # for cross validation by StratifiedKfold\n",
        "scores = [] #list to store the sores obtained in training the model \n",
        "preds= [] #list to store the predictions \n",
        "\n",
        "X = new_train.drop(columns=['region_area_','Potability']) #config_.preprocess.to_drop+config_.preprocess.target)\n",
        "y = new_train['Potability'] #[config_.preprocess.target[0]].astype(int)\n",
        "\n",
        "test_new = test_df.drop(columns=['region_area_', 'Potability']) #config_.preprocess.to_drop)\n",
        "test_fields = test_df['region_area_'] #[config_.preprocess.to_drop[0]]  #field\n",
        "\n",
        "#creating a for loop for the stratified k fold to perform the cross validation \n",
        "i = 1\n",
        "for train, test in skf.split(X, y):\n",
        "    x_train, x_test= X.iloc[train], X.iloc[test] #spliting the data for x \n",
        "    y_train, y_test = y.iloc[train],y.iloc[test] #spliting the data for y \n",
        "    # model = lgb.LGBMClassifier(learning_rate=0.08, n_estimators = 96,cat_smooth=10,metrics='binary_error',\n",
        "    #                           #  neg_bagging_fraction=0.8,pos_bagging_fraction=0.7,\n",
        "    #                            scale_pos_weight= 10.6 ,max_depth=16, seed =2021,\n",
        "    #                            num_leaves=49,reg_lambda=0.3, reg_alpha=0.3) #Creating the model and tuning it with the different parameter \n",
        "    model = lgb.LGBMClassifier(**config_.model2)\n",
        "    model.fit(x_train, y_train)# fitting  the model on train data\n",
        "    print(i,'Split Trained') #print the splits that trained \n",
        "    score = f1_score(y_test,model.predict(x_test)) # checking the accuracy of the model \n",
        "    pred = model.predict_proba(test_new)[:,1] # making prediction\n",
        "    scores.append(score)\n",
        "    preds.append(pred)\n",
        "    i += 1\n",
        "print('Total Mean Score Obtained :',np.mean(scores))\n",
        "\n",
        "preds_mean = np.mean(preds, axis=0) # mean of all the predictions\n",
        "final = [] #list to store the final results \n",
        "for x in preds_mean:\n",
        "    if x >= 0.51:\n",
        "        final.append(1)\n",
        "    else:\n",
        "        final.append(0)\n",
        "\n",
        "submit = test_df.copy() #Copy the submission file to the variable submit \n",
        "submit['Potability'] = final\n",
        "submit[['region_area_','Potability']].to_csv('003_2.csv',index=False) #creating and naming the file ready for submission"
      ],
      "execution_count": 44,
      "outputs": [
        {
          "output_type": "stream",
          "name": "stdout",
          "text": [
            "1 Split Trained\n",
            "2 Split Trained\n",
            "3 Split Trained\n",
            "4 Split Trained\n",
            "5 Split Trained\n",
            "6 Split Trained\n",
            "7 Split Trained\n",
            "8 Split Trained\n",
            "9 Split Trained\n",
            "10 Split Trained\n",
            "Total Mean Score Obtained : 0.7032938196522149\n"
          ]
        }
      ]
    },
    {
      "cell_type": "code",
      "metadata": {
        "id": "7C5jlrnZO0HP"
      },
      "source": [
        "test_df.drop(columns='Potability' ,inplace=True)"
      ],
      "execution_count": 45,
      "outputs": []
    },
    {
      "cell_type": "markdown",
      "metadata": {
        "id": "A_7EFYqSMo0X"
      },
      "source": [
        "### SUB 3 FEATURE ENGINEEERED FEATURES MODEL cv 0.578 LB: 0.5889"
      ]
    },
    {
      "cell_type": "code",
      "metadata": {
        "id": "-QJsagw3Ni9A"
      },
      "source": [
        "func(ph_scaler(train_df))   #ph category cols\n",
        "func(ph_scaler(test_df))   #ph category cols\n",
        "\n",
        "train_df[['SW_range', 'alkalinity_range']] = train_df[['SW_range', 'alkalinity_range']].astype('category')\n",
        "test_df[['SW_range', 'alkalinity_range']] = test_df[['SW_range', 'alkalinity_range']].astype('category')"
      ],
      "execution_count": 46,
      "outputs": []
    },
    {
      "cell_type": "code",
      "metadata": {
        "colab": {
          "base_uri": "https://localhost:8080/"
        },
        "id": "XNARoqC3M9by",
        "outputId": "0d718df0-1600-4d0c-fe2f-7cfccb9db01c"
      },
      "source": [
        "#Here the cross validation by using the StratifiedKfold used to split the data into train,test and validation and repeatedly and Using the LGBMClassifier as Algorithm for building the model \n",
        "skf =StratifiedKFold(n_splits=10, shuffle=True,random_state=2021) # for cross validation by StratifiedKfold\n",
        "scores = [] #list to store the sores obtained in training the model \n",
        "preds= [] #list to store the predictions \n",
        "\n",
        "X = train_df.drop(columns=['region_area_','Potability']) #config_.preprocess.to_drop+config_.preprocess.target)\n",
        "y = train_df['Potability'] #[config_.preprocess.target[0]].astype(int)\n",
        "\n",
        "test_new = test_df.drop(columns=['region_area_']) #config_.preprocess.to_drop)\n",
        "test_fields = test_df['region_area_'] #[config_.preprocess.to_drop[0]]  #field\n",
        "\n",
        "#creating a for loop for the stratified k fold to perform the cross validation \n",
        "i = 1\n",
        "for train, test in skf.split(X, y):\n",
        "    x_train, x_test= X.iloc[train], X.iloc[test] #spliting the data for x \n",
        "    y_train, y_test = y.iloc[train],y.iloc[test] #spliting the data for y \n",
        "    # model = lgb.LGBMClassifier(learning_rate=0.08, n_estimators = 96,cat_smooth=10,metrics='binary_error',\n",
        "    #                            scale_pos_weight= 10.6 ,max_depth=16, seed =2021,\n",
        "    #                            num_leaves=22,reg_lambda=0.3,) #Creating the model and tuning it with the different parameter \n",
        "    \n",
        "    model = lgb.LGBMClassifier(**config_.model3)\n",
        "    model.fit(x_train, y_train)# fitting  the model on train data\n",
        "    print(i,'Split Trained') #print the splits that trained \n",
        "    score = f1_score(y_test,model.predict(x_test)) # checking the accuracy of the model \n",
        "    pred = model.predict_proba(test_new)[:,1] # making prediction\n",
        "    scores.append(score)\n",
        "    preds.append(pred)\n",
        "    i += 1\n",
        "print('Total Mean Score Obtained :',np.mean(scores))\n",
        "\n",
        "preds_mean = np.mean(preds, axis=0) # mean of all the predictions\n",
        "final = [] #list to store the final results \n",
        "for x in preds_mean:\n",
        "    if x >= 0.51:\n",
        "        final.append(1)\n",
        "    else:\n",
        "        final.append(0)\n",
        "\n",
        "submit = test_df.copy() #Copy the submission file to the variable submit \n",
        "submit['Potability'] = final\n",
        "submit[['region_area_','Potability']].to_csv('003_3.csv',index=False) #creating and naming the file ready for submission"
      ],
      "execution_count": 47,
      "outputs": [
        {
          "output_type": "stream",
          "name": "stdout",
          "text": [
            "1 Split Trained\n",
            "2 Split Trained\n",
            "3 Split Trained\n",
            "4 Split Trained\n",
            "5 Split Trained\n",
            "6 Split Trained\n",
            "7 Split Trained\n",
            "8 Split Trained\n",
            "9 Split Trained\n",
            "10 Split Trained\n",
            "Total Mean Score Obtained : 0.5786560519655769\n"
          ]
        }
      ]
    }
  ]
}
